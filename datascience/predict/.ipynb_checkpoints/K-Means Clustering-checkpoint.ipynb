{
 "cells": [
  {
   "cell_type": "markdown",
   "metadata": {},
   "source": [
    "### Setup"
   ]
  },
  {
   "cell_type": "code",
   "execution_count": 24,
   "metadata": {
    "collapsed": false
   },
   "outputs": [],
   "source": [
    "import pandas as pd\n",
    "import numpy as np\n",
    "import seaborn as sns\n",
    "import matplotlib.pyplot as plt\n",
    "from scipy.cluster.vq import kmeans, whiten"
   ]
  },
  {
   "cell_type": "code",
   "execution_count": 23,
   "metadata": {
    "collapsed": false
   },
   "outputs": [],
   "source": [
    "%matplotlib inline\n",
    "import warnings\n",
    "warnings.filterwarnings('ignore')"
   ]
  },
  {
   "cell_type": "code",
   "execution_count": 25,
   "metadata": {
    "collapsed": false
   },
   "outputs": [
    {
     "data": {
      "text/html": [
       "<div>\n",
       "<table border=\"1\" class=\"dataframe\">\n",
       "  <thead>\n",
       "    <tr style=\"text-align: right;\">\n",
       "      <th></th>\n",
       "      <th>country</th>\n",
       "      <th>region</th>\n",
       "      <th>tfr</th>\n",
       "      <th>contraception</th>\n",
       "      <th>educationMale</th>\n",
       "      <th>educationFemale</th>\n",
       "      <th>lifeMale</th>\n",
       "      <th>lifeFemale</th>\n",
       "      <th>infantMortality</th>\n",
       "      <th>GDPperCapita</th>\n",
       "      <th>economicActivityMale</th>\n",
       "      <th>economicActivityFemale</th>\n",
       "      <th>illiteracyMale</th>\n",
       "      <th>illiteracyFemale</th>\n",
       "    </tr>\n",
       "  </thead>\n",
       "  <tbody>\n",
       "    <tr>\n",
       "      <th>0</th>\n",
       "      <td>Afghanistan</td>\n",
       "      <td>Asia</td>\n",
       "      <td>6.90</td>\n",
       "      <td>NaN</td>\n",
       "      <td>NaN</td>\n",
       "      <td>NaN</td>\n",
       "      <td>45.0</td>\n",
       "      <td>46.0</td>\n",
       "      <td>154.0</td>\n",
       "      <td>2848.0</td>\n",
       "      <td>87.5</td>\n",
       "      <td>7.2</td>\n",
       "      <td>52.800</td>\n",
       "      <td>85.00</td>\n",
       "    </tr>\n",
       "    <tr>\n",
       "      <th>1</th>\n",
       "      <td>Albania</td>\n",
       "      <td>Europe</td>\n",
       "      <td>2.60</td>\n",
       "      <td>NaN</td>\n",
       "      <td>NaN</td>\n",
       "      <td>NaN</td>\n",
       "      <td>68.0</td>\n",
       "      <td>74.0</td>\n",
       "      <td>32.0</td>\n",
       "      <td>863.0</td>\n",
       "      <td>NaN</td>\n",
       "      <td>NaN</td>\n",
       "      <td>NaN</td>\n",
       "      <td>NaN</td>\n",
       "    </tr>\n",
       "    <tr>\n",
       "      <th>2</th>\n",
       "      <td>Algeria</td>\n",
       "      <td>Africa</td>\n",
       "      <td>3.81</td>\n",
       "      <td>52.0</td>\n",
       "      <td>11.1</td>\n",
       "      <td>9.9</td>\n",
       "      <td>67.5</td>\n",
       "      <td>70.3</td>\n",
       "      <td>44.0</td>\n",
       "      <td>1531.0</td>\n",
       "      <td>76.4</td>\n",
       "      <td>7.8</td>\n",
       "      <td>26.100</td>\n",
       "      <td>51.00</td>\n",
       "    </tr>\n",
       "    <tr>\n",
       "      <th>3</th>\n",
       "      <td>American.Samoa</td>\n",
       "      <td>Asia</td>\n",
       "      <td>NaN</td>\n",
       "      <td>NaN</td>\n",
       "      <td>NaN</td>\n",
       "      <td>NaN</td>\n",
       "      <td>68.0</td>\n",
       "      <td>73.0</td>\n",
       "      <td>11.0</td>\n",
       "      <td>NaN</td>\n",
       "      <td>58.8</td>\n",
       "      <td>42.4</td>\n",
       "      <td>0.264</td>\n",
       "      <td>0.36</td>\n",
       "    </tr>\n",
       "    <tr>\n",
       "      <th>4</th>\n",
       "      <td>Andorra</td>\n",
       "      <td>Europe</td>\n",
       "      <td>NaN</td>\n",
       "      <td>NaN</td>\n",
       "      <td>NaN</td>\n",
       "      <td>NaN</td>\n",
       "      <td>NaN</td>\n",
       "      <td>NaN</td>\n",
       "      <td>NaN</td>\n",
       "      <td>NaN</td>\n",
       "      <td>NaN</td>\n",
       "      <td>NaN</td>\n",
       "      <td>NaN</td>\n",
       "      <td>NaN</td>\n",
       "    </tr>\n",
       "  </tbody>\n",
       "</table>\n",
       "</div>"
      ],
      "text/plain": [
       "          country  region   tfr  contraception  educationMale  \\\n",
       "0     Afghanistan    Asia  6.90            NaN            NaN   \n",
       "1         Albania  Europe  2.60            NaN            NaN   \n",
       "2         Algeria  Africa  3.81           52.0           11.1   \n",
       "3  American.Samoa    Asia   NaN            NaN            NaN   \n",
       "4         Andorra  Europe   NaN            NaN            NaN   \n",
       "\n",
       "   educationFemale  lifeMale  lifeFemale  infantMortality  GDPperCapita  \\\n",
       "0              NaN      45.0        46.0            154.0        2848.0   \n",
       "1              NaN      68.0        74.0             32.0         863.0   \n",
       "2              9.9      67.5        70.3             44.0        1531.0   \n",
       "3              NaN      68.0        73.0             11.0           NaN   \n",
       "4              NaN       NaN         NaN              NaN           NaN   \n",
       "\n",
       "   economicActivityMale  economicActivityFemale  illiteracyMale  \\\n",
       "0                  87.5                     7.2          52.800   \n",
       "1                   NaN                     NaN             NaN   \n",
       "2                  76.4                     7.8          26.100   \n",
       "3                  58.8                    42.4           0.264   \n",
       "4                   NaN                     NaN             NaN   \n",
       "\n",
       "   illiteracyFemale  \n",
       "0             85.00  \n",
       "1               NaN  \n",
       "2             51.00  \n",
       "3              0.36  \n",
       "4               NaN  "
      ]
     },
     "execution_count": 25,
     "metadata": {},
     "output_type": "execute_result"
    }
   ],
   "source": [
    "undata = pd.read_csv('https://raw.githubusercontent.com/Thinkful-Ed/curric-data-001-data-sets/master/un/un.csv')\n",
    "undata.head()"
   ]
  },
  {
   "cell_type": "code",
   "execution_count": 26,
   "metadata": {
    "collapsed": false
   },
   "outputs": [
    {
     "data": {
      "text/plain": [
       "country                   207\n",
       "region                    207\n",
       "tfr                       197\n",
       "contraception             144\n",
       "educationMale              76\n",
       "educationFemale            76\n",
       "lifeMale                  196\n",
       "lifeFemale                196\n",
       "infantMortality           201\n",
       "GDPperCapita              197\n",
       "economicActivityMale      165\n",
       "economicActivityFemale    165\n",
       "illiteracyMale            160\n",
       "illiteracyFemale          160\n",
       "dtype: int64"
      ]
     },
     "execution_count": 26,
     "metadata": {},
     "output_type": "execute_result"
    }
   ],
   "source": [
    "undata.count()"
   ]
  },
  {
   "cell_type": "code",
   "execution_count": 31,
   "metadata": {
    "collapsed": false
   },
   "outputs": [
    {
     "name": "stdout",
     "output_type": "stream",
     "text": [
      "[[    67.5     70.3   1531. ]\n",
      " [    70.5     77.1  12545. ]\n",
      " [    71.1     75.3   9073. ]\n",
      " [    73.4     76.1   2569. ]\n",
      " [    48.9     51.7   3640. ]\n",
      " [    45.1     47.     165. ]\n",
      " [    45.5     48.8    205. ]\n",
      " [    72.3     78.3   4736. ]\n",
      " [    74.2     78.    1983. ]\n",
      " [    68.9     73.1   1508. ]\n",
      " [    64.7     67.3    973. ]\n",
      " [    66.5     72.5   1660. ]\n",
      " [    63.9     75.    2433. ]\n",
      " [    45.4     48.7    321. ]\n",
      " [    68.5     76.7    343. ]\n",
      " [    76.1     81.8  22898. ]\n",
      " [    64.5     73.8   4325. ]\n",
      " [    63.3     67.    1019. ]\n",
      " [    60.9     63.9  11308. ]\n",
      " [    72.4     76.8   1779. ]\n",
      " [    68.8     76.    9736. ]\n",
      " [    74.1     78.2  15757. ]\n",
      " [    62.5     74.3   1764. ]\n",
      " [    40.3     41.1    142. ]\n",
      " [    65.8     70.6    464. ]\n",
      " [    67.5     72.    1860. ]\n",
      " [    65.9     70.9   2497. ]\n",
      " [    66.6     70.2   1093. ]\n",
      " [    71.8     78.9  10428. ]\n",
      " [    70.      75.4  14013. ]\n",
      " [    66.      73.2   1570. ]\n",
      " [    67.5     71.1   1106. ]\n",
      " [    62.3     68.3   3230. ]\n",
      " [    74.5     81.5  14111. ]\n",
      " [    57.7     62.3   1389. ]\n",
      " [    71.5     76.2   4083. ]\n",
      " [    66.5     71.7   2814. ]\n",
      " [    73.4     80.1  26037. ]\n",
      " [    70.      75.7   3496. ]]\n"
     ]
    }
   ],
   "source": [
    "undata.dropna(inplace = True)\n",
    "x = undata[['lifeMale', 'lifeFemale', 'GDPperCapita']]\n",
    "x = np.column_stack([x1,x2,x3])\n",
    "print(x)"
   ]
  },
  {
   "cell_type": "code",
   "execution_count": 33,
   "metadata": {
    "collapsed": false
   },
   "outputs": [
    {
     "data": {
      "text/plain": [
       "array([[ 7.66974872,  7.12209925,  0.24395507],\n",
       "       [ 8.01062644,  7.81100785,  1.99896563],\n",
       "       [ 8.07880199,  7.62864969,  1.44572461],\n",
       "       [ 8.34014157,  7.70969776,  0.40935374],\n",
       "       [ 5.55630685,  5.23773159,  0.58001075],\n",
       "       [ 5.12452841,  4.76157418,  0.0262917 ],\n",
       "       [ 5.16997877,  4.94393234,  0.03266544],\n",
       "       [ 8.21515308,  7.93257996,  0.75465135],\n",
       "       [ 8.4310423 ,  7.90218693,  0.31597839],\n",
       "       [ 7.82882499,  7.4057675 ,  0.24029017],\n",
       "       [ 7.35159618,  6.81816898,  0.15504134],\n",
       "       [ 7.55612282,  7.34498144,  0.2645104 ],\n",
       "       [ 7.26069546,  7.59825666,  0.38768301],\n",
       "       [ 5.15861618,  4.93380133,  0.0511493 ],\n",
       "       [ 7.78337463,  7.77048382,  0.05465486],\n",
       "       [ 8.64693152,  8.28716527,  3.64865006],\n",
       "       [ 7.328871  ,  7.47668456,  0.68916113],\n",
       "       [ 7.19251991,  6.78777595,  0.16237114],\n",
       "       [ 6.91981774,  6.47371468,  1.80185758],\n",
       "       [ 8.22651567,  7.78061482,  0.28347229],\n",
       "       [ 7.8174624 ,  7.69956675,  1.55136942],\n",
       "       [ 8.41967971,  7.92244895,  2.51077732],\n",
       "       [ 7.10161919,  7.5273396 ,  0.28108213],\n",
       "       [ 4.57912405,  4.16384465,  0.02262679],\n",
       "       [ 7.47658468,  7.15249227,  0.07393544],\n",
       "       [ 7.66974872,  7.2943264 ,  0.29637912],\n",
       "       [ 7.48794727,  7.1828853 ,  0.397881  ],\n",
       "       [ 7.56748541,  7.11196824,  0.17416257],\n",
       "       [ 8.15834012,  7.99336601,  1.6616352 ],\n",
       "       [ 7.95381349,  7.6387807 ,  2.23288206],\n",
       "       [ 7.49930986,  7.4158985 ,  0.25016947],\n",
       "       [ 7.66974872,  7.20314732,  0.17623404],\n",
       "       [ 7.07889401,  6.91947907,  0.51467987],\n",
       "       [ 8.46513007,  8.25677224,  2.24849773],\n",
       "       [ 6.55621483,  6.31161854,  0.22132828],\n",
       "       [ 8.12425235,  7.71982877,  0.65059997],\n",
       "       [ 7.55612282,  7.26393337,  0.44839293],\n",
       "       [ 8.34014157,  8.11493812,  4.14882967],\n",
       "       [ 7.95381349,  7.66917373,  0.55706527]])"
      ]
     },
     "execution_count": 33,
     "metadata": {},
     "output_type": "execute_result"
    }
   ],
   "source": [
    "features = whiten(x)\n",
    "features\n",
    "kmeans(whitened,2)"
   ]
  },
  {
   "cell_type": "code",
   "execution_count": null,
   "metadata": {
    "collapsed": true
   },
   "outputs": [],
   "source": []
  }
 ],
 "metadata": {
  "kernelspec": {
   "display_name": "Python 2",
   "language": "python",
   "name": "python2"
  },
  "language_info": {
   "codemirror_mode": {
    "name": "ipython",
    "version": 2
   },
   "file_extension": ".py",
   "mimetype": "text/x-python",
   "name": "python",
   "nbconvert_exporter": "python",
   "pygments_lexer": "ipython2",
   "version": "2.7.11"
  }
 },
 "nbformat": 4,
 "nbformat_minor": 0
}
