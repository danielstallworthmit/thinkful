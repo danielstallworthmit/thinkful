{
 "cells": [
  {
   "cell_type": "markdown",
   "metadata": {},
   "source": [
    "### Setup"
   ]
  },
  {
   "cell_type": "code",
   "execution_count": 3,
   "metadata": {
    "collapsed": false
   },
   "outputs": [],
   "source": [
    "import pandas as pd\n",
    "import numpy as np\n",
    "import seaborn as sns\n",
    "import matplotlib.pyplot as plt\n",
    "from sklearn.ensemble import RandomForestClassifier, RandomForestRegressor\n",
    "from sklearn.metrics import precision_recall_curve, confusion_matrix, classification_report, accuracy_score, f1_score\n",
    "from __future__ import print_function\n",
    "from sklearn.decomposition import PCA\n",
    "from sklearn.preprocessing import StandardScaler"
   ]
  },
  {
   "cell_type": "code",
   "execution_count": 2,
   "metadata": {
    "collapsed": true
   },
   "outputs": [],
   "source": [
    "%matplotlib inline\n",
    "import warnings\n",
    "warnings.filterwarnings('ignore')"
   ]
  },
  {
   "cell_type": "markdown",
   "metadata": {},
   "source": [
    "### Get test and training from respective files"
   ]
  },
  {
   "cell_type": "code",
   "execution_count": 5,
   "metadata": {
    "collapsed": false
   },
   "outputs": [],
   "source": [
    "X_test = pd.read_csv('./UCI HAR Dataset/test/X_test.txt', sep='\\s+', \n",
    "           names = pd.read_csv('./UCI HAR Dataset/features.txt', sep = '\\s+', header = None)[1], header = None)"
   ]
  },
  {
   "cell_type": "code",
   "execution_count": 6,
   "metadata": {
    "collapsed": false
   },
   "outputs": [
    {
     "data": {
      "text/html": [
       "<div>\n",
       "<table border=\"1\" class=\"dataframe\">\n",
       "  <thead>\n",
       "    <tr style=\"text-align: right;\">\n",
       "      <th></th>\n",
       "      <th>tBodyAcc-mean()-X</th>\n",
       "      <th>tBodyAcc-mean()-Y</th>\n",
       "      <th>tBodyAcc-mean()-Z</th>\n",
       "      <th>tBodyAcc-std()-X</th>\n",
       "      <th>tBodyAcc-std()-Y</th>\n",
       "      <th>tBodyAcc-std()-Z</th>\n",
       "      <th>tBodyAcc-mad()-X</th>\n",
       "      <th>tBodyAcc-mad()-Y</th>\n",
       "      <th>tBodyAcc-mad()-Z</th>\n",
       "      <th>tBodyAcc-max()-X</th>\n",
       "      <th>...</th>\n",
       "      <th>fBodyBodyGyroJerkMag-meanFreq()</th>\n",
       "      <th>fBodyBodyGyroJerkMag-skewness()</th>\n",
       "      <th>fBodyBodyGyroJerkMag-kurtosis()</th>\n",
       "      <th>angle(tBodyAccMean,gravity)</th>\n",
       "      <th>angle(tBodyAccJerkMean),gravityMean)</th>\n",
       "      <th>angle(tBodyGyroMean,gravityMean)</th>\n",
       "      <th>angle(tBodyGyroJerkMean,gravityMean)</th>\n",
       "      <th>angle(X,gravityMean)</th>\n",
       "      <th>angle(Y,gravityMean)</th>\n",
       "      <th>angle(Z,gravityMean)</th>\n",
       "    </tr>\n",
       "  </thead>\n",
       "  <tbody>\n",
       "    <tr>\n",
       "      <th>0</th>\n",
       "      <td>0.257178</td>\n",
       "      <td>-0.023285</td>\n",
       "      <td>-0.014654</td>\n",
       "      <td>-0.938404</td>\n",
       "      <td>-0.920091</td>\n",
       "      <td>-0.667683</td>\n",
       "      <td>-0.952501</td>\n",
       "      <td>-0.925249</td>\n",
       "      <td>-0.674302</td>\n",
       "      <td>-0.894088</td>\n",
       "      <td>...</td>\n",
       "      <td>0.071645</td>\n",
       "      <td>-0.330370</td>\n",
       "      <td>-0.705974</td>\n",
       "      <td>0.006462</td>\n",
       "      <td>0.162920</td>\n",
       "      <td>-0.825886</td>\n",
       "      <td>0.271151</td>\n",
       "      <td>-0.720009</td>\n",
       "      <td>0.276801</td>\n",
       "      <td>-0.057978</td>\n",
       "    </tr>\n",
       "    <tr>\n",
       "      <th>1</th>\n",
       "      <td>0.286027</td>\n",
       "      <td>-0.013163</td>\n",
       "      <td>-0.119083</td>\n",
       "      <td>-0.975415</td>\n",
       "      <td>-0.967458</td>\n",
       "      <td>-0.944958</td>\n",
       "      <td>-0.986799</td>\n",
       "      <td>-0.968401</td>\n",
       "      <td>-0.945823</td>\n",
       "      <td>-0.894088</td>\n",
       "      <td>...</td>\n",
       "      <td>-0.401189</td>\n",
       "      <td>-0.121845</td>\n",
       "      <td>-0.594944</td>\n",
       "      <td>-0.083495</td>\n",
       "      <td>0.017500</td>\n",
       "      <td>-0.434375</td>\n",
       "      <td>0.920593</td>\n",
       "      <td>-0.698091</td>\n",
       "      <td>0.281343</td>\n",
       "      <td>-0.083898</td>\n",
       "    </tr>\n",
       "    <tr>\n",
       "      <th>2</th>\n",
       "      <td>0.275485</td>\n",
       "      <td>-0.026050</td>\n",
       "      <td>-0.118152</td>\n",
       "      <td>-0.993819</td>\n",
       "      <td>-0.969926</td>\n",
       "      <td>-0.962748</td>\n",
       "      <td>-0.994403</td>\n",
       "      <td>-0.970735</td>\n",
       "      <td>-0.963483</td>\n",
       "      <td>-0.939260</td>\n",
       "      <td>...</td>\n",
       "      <td>0.062891</td>\n",
       "      <td>-0.190422</td>\n",
       "      <td>-0.640736</td>\n",
       "      <td>-0.034956</td>\n",
       "      <td>0.202302</td>\n",
       "      <td>0.064103</td>\n",
       "      <td>0.145068</td>\n",
       "      <td>-0.702771</td>\n",
       "      <td>0.280083</td>\n",
       "      <td>-0.079346</td>\n",
       "    </tr>\n",
       "    <tr>\n",
       "      <th>3</th>\n",
       "      <td>0.270298</td>\n",
       "      <td>-0.032614</td>\n",
       "      <td>-0.117520</td>\n",
       "      <td>-0.994743</td>\n",
       "      <td>-0.973268</td>\n",
       "      <td>-0.967091</td>\n",
       "      <td>-0.995274</td>\n",
       "      <td>-0.974471</td>\n",
       "      <td>-0.968897</td>\n",
       "      <td>-0.938610</td>\n",
       "      <td>...</td>\n",
       "      <td>0.116695</td>\n",
       "      <td>-0.344418</td>\n",
       "      <td>-0.736124</td>\n",
       "      <td>-0.017067</td>\n",
       "      <td>0.154438</td>\n",
       "      <td>0.340134</td>\n",
       "      <td>0.296407</td>\n",
       "      <td>-0.698954</td>\n",
       "      <td>0.284114</td>\n",
       "      <td>-0.077108</td>\n",
       "    </tr>\n",
       "    <tr>\n",
       "      <th>4</th>\n",
       "      <td>0.274833</td>\n",
       "      <td>-0.027848</td>\n",
       "      <td>-0.129527</td>\n",
       "      <td>-0.993852</td>\n",
       "      <td>-0.967445</td>\n",
       "      <td>-0.978295</td>\n",
       "      <td>-0.994111</td>\n",
       "      <td>-0.965953</td>\n",
       "      <td>-0.977346</td>\n",
       "      <td>-0.938610</td>\n",
       "      <td>...</td>\n",
       "      <td>-0.121711</td>\n",
       "      <td>-0.534685</td>\n",
       "      <td>-0.846595</td>\n",
       "      <td>-0.002223</td>\n",
       "      <td>-0.040046</td>\n",
       "      <td>0.736715</td>\n",
       "      <td>-0.118545</td>\n",
       "      <td>-0.692245</td>\n",
       "      <td>0.290722</td>\n",
       "      <td>-0.073857</td>\n",
       "    </tr>\n",
       "  </tbody>\n",
       "</table>\n",
       "<p>5 rows × 561 columns</p>\n",
       "</div>"
      ],
      "text/plain": [
       "   tBodyAcc-mean()-X  tBodyAcc-mean()-Y  tBodyAcc-mean()-Z  tBodyAcc-std()-X  \\\n",
       "0           0.257178          -0.023285          -0.014654         -0.938404   \n",
       "1           0.286027          -0.013163          -0.119083         -0.975415   \n",
       "2           0.275485          -0.026050          -0.118152         -0.993819   \n",
       "3           0.270298          -0.032614          -0.117520         -0.994743   \n",
       "4           0.274833          -0.027848          -0.129527         -0.993852   \n",
       "\n",
       "   tBodyAcc-std()-Y  tBodyAcc-std()-Z  tBodyAcc-mad()-X  tBodyAcc-mad()-Y  \\\n",
       "0         -0.920091         -0.667683         -0.952501         -0.925249   \n",
       "1         -0.967458         -0.944958         -0.986799         -0.968401   \n",
       "2         -0.969926         -0.962748         -0.994403         -0.970735   \n",
       "3         -0.973268         -0.967091         -0.995274         -0.974471   \n",
       "4         -0.967445         -0.978295         -0.994111         -0.965953   \n",
       "\n",
       "   tBodyAcc-mad()-Z  tBodyAcc-max()-X          ...           \\\n",
       "0         -0.674302         -0.894088          ...            \n",
       "1         -0.945823         -0.894088          ...            \n",
       "2         -0.963483         -0.939260          ...            \n",
       "3         -0.968897         -0.938610          ...            \n",
       "4         -0.977346         -0.938610          ...            \n",
       "\n",
       "   fBodyBodyGyroJerkMag-meanFreq()  fBodyBodyGyroJerkMag-skewness()  \\\n",
       "0                         0.071645                        -0.330370   \n",
       "1                        -0.401189                        -0.121845   \n",
       "2                         0.062891                        -0.190422   \n",
       "3                         0.116695                        -0.344418   \n",
       "4                        -0.121711                        -0.534685   \n",
       "\n",
       "   fBodyBodyGyroJerkMag-kurtosis()  angle(tBodyAccMean,gravity)  \\\n",
       "0                        -0.705974                     0.006462   \n",
       "1                        -0.594944                    -0.083495   \n",
       "2                        -0.640736                    -0.034956   \n",
       "3                        -0.736124                    -0.017067   \n",
       "4                        -0.846595                    -0.002223   \n",
       "\n",
       "   angle(tBodyAccJerkMean),gravityMean)  angle(tBodyGyroMean,gravityMean)  \\\n",
       "0                              0.162920                         -0.825886   \n",
       "1                              0.017500                         -0.434375   \n",
       "2                              0.202302                          0.064103   \n",
       "3                              0.154438                          0.340134   \n",
       "4                             -0.040046                          0.736715   \n",
       "\n",
       "   angle(tBodyGyroJerkMean,gravityMean)  angle(X,gravityMean)  \\\n",
       "0                              0.271151             -0.720009   \n",
       "1                              0.920593             -0.698091   \n",
       "2                              0.145068             -0.702771   \n",
       "3                              0.296407             -0.698954   \n",
       "4                             -0.118545             -0.692245   \n",
       "\n",
       "   angle(Y,gravityMean)  angle(Z,gravityMean)  \n",
       "0              0.276801             -0.057978  \n",
       "1              0.281343             -0.083898  \n",
       "2              0.280083             -0.079346  \n",
       "3              0.284114             -0.077108  \n",
       "4              0.290722             -0.073857  \n",
       "\n",
       "[5 rows x 561 columns]"
      ]
     },
     "execution_count": 6,
     "metadata": {},
     "output_type": "execute_result"
    }
   ],
   "source": [
    "X_test.head()"
   ]
  },
  {
   "cell_type": "code",
   "execution_count": 7,
   "metadata": {
    "collapsed": false
   },
   "outputs": [
    {
     "data": {
      "text/html": [
       "<div>\n",
       "<table border=\"1\" class=\"dataframe\">\n",
       "  <thead>\n",
       "    <tr style=\"text-align: right;\">\n",
       "      <th></th>\n",
       "      <th>activity</th>\n",
       "    </tr>\n",
       "  </thead>\n",
       "  <tbody>\n",
       "    <tr>\n",
       "      <th>0</th>\n",
       "      <td>5</td>\n",
       "    </tr>\n",
       "    <tr>\n",
       "      <th>1</th>\n",
       "      <td>5</td>\n",
       "    </tr>\n",
       "    <tr>\n",
       "      <th>2</th>\n",
       "      <td>5</td>\n",
       "    </tr>\n",
       "    <tr>\n",
       "      <th>3</th>\n",
       "      <td>5</td>\n",
       "    </tr>\n",
       "    <tr>\n",
       "      <th>4</th>\n",
       "      <td>5</td>\n",
       "    </tr>\n",
       "  </tbody>\n",
       "</table>\n",
       "</div>"
      ],
      "text/plain": [
       "   activity\n",
       "0         5\n",
       "1         5\n",
       "2         5\n",
       "3         5\n",
       "4         5"
      ]
     },
     "execution_count": 7,
     "metadata": {},
     "output_type": "execute_result"
    }
   ],
   "source": [
    "y_test = pd.read_csv('./UCI HAR Dataset/test/y_test.txt', sep='\\s+', \n",
    "           names = [\"activity\"], header = None)\n",
    "y_test.head()"
   ]
  },
  {
   "cell_type": "code",
   "execution_count": 8,
   "metadata": {
    "collapsed": false
   },
   "outputs": [],
   "source": [
    "X_train = pd.read_csv('./UCI HAR Dataset/train/X_train.txt', sep='\\s+', \n",
    "           names = pd.read_csv('./UCI HAR Dataset/features.txt', sep = '\\s+', header = None)[1], header = None)"
   ]
  },
  {
   "cell_type": "code",
   "execution_count": 9,
   "metadata": {
    "collapsed": false
   },
   "outputs": [
    {
     "data": {
      "text/html": [
       "<div>\n",
       "<table border=\"1\" class=\"dataframe\">\n",
       "  <thead>\n",
       "    <tr style=\"text-align: right;\">\n",
       "      <th></th>\n",
       "      <th>tBodyAcc-mean()-X</th>\n",
       "      <th>tBodyAcc-mean()-Y</th>\n",
       "      <th>tBodyAcc-mean()-Z</th>\n",
       "      <th>tBodyAcc-std()-X</th>\n",
       "      <th>tBodyAcc-std()-Y</th>\n",
       "      <th>tBodyAcc-std()-Z</th>\n",
       "      <th>tBodyAcc-mad()-X</th>\n",
       "      <th>tBodyAcc-mad()-Y</th>\n",
       "      <th>tBodyAcc-mad()-Z</th>\n",
       "      <th>tBodyAcc-max()-X</th>\n",
       "      <th>...</th>\n",
       "      <th>fBodyBodyGyroJerkMag-meanFreq()</th>\n",
       "      <th>fBodyBodyGyroJerkMag-skewness()</th>\n",
       "      <th>fBodyBodyGyroJerkMag-kurtosis()</th>\n",
       "      <th>angle(tBodyAccMean,gravity)</th>\n",
       "      <th>angle(tBodyAccJerkMean),gravityMean)</th>\n",
       "      <th>angle(tBodyGyroMean,gravityMean)</th>\n",
       "      <th>angle(tBodyGyroJerkMean,gravityMean)</th>\n",
       "      <th>angle(X,gravityMean)</th>\n",
       "      <th>angle(Y,gravityMean)</th>\n",
       "      <th>angle(Z,gravityMean)</th>\n",
       "    </tr>\n",
       "  </thead>\n",
       "  <tbody>\n",
       "    <tr>\n",
       "      <th>0</th>\n",
       "      <td>0.288585</td>\n",
       "      <td>-0.020294</td>\n",
       "      <td>-0.132905</td>\n",
       "      <td>-0.995279</td>\n",
       "      <td>-0.983111</td>\n",
       "      <td>-0.913526</td>\n",
       "      <td>-0.995112</td>\n",
       "      <td>-0.983185</td>\n",
       "      <td>-0.923527</td>\n",
       "      <td>-0.934724</td>\n",
       "      <td>...</td>\n",
       "      <td>-0.074323</td>\n",
       "      <td>-0.298676</td>\n",
       "      <td>-0.710304</td>\n",
       "      <td>-0.112754</td>\n",
       "      <td>0.030400</td>\n",
       "      <td>-0.464761</td>\n",
       "      <td>-0.018446</td>\n",
       "      <td>-0.841247</td>\n",
       "      <td>0.179941</td>\n",
       "      <td>-0.058627</td>\n",
       "    </tr>\n",
       "    <tr>\n",
       "      <th>1</th>\n",
       "      <td>0.278419</td>\n",
       "      <td>-0.016411</td>\n",
       "      <td>-0.123520</td>\n",
       "      <td>-0.998245</td>\n",
       "      <td>-0.975300</td>\n",
       "      <td>-0.960322</td>\n",
       "      <td>-0.998807</td>\n",
       "      <td>-0.974914</td>\n",
       "      <td>-0.957686</td>\n",
       "      <td>-0.943068</td>\n",
       "      <td>...</td>\n",
       "      <td>0.158075</td>\n",
       "      <td>-0.595051</td>\n",
       "      <td>-0.861499</td>\n",
       "      <td>0.053477</td>\n",
       "      <td>-0.007435</td>\n",
       "      <td>-0.732626</td>\n",
       "      <td>0.703511</td>\n",
       "      <td>-0.844788</td>\n",
       "      <td>0.180289</td>\n",
       "      <td>-0.054317</td>\n",
       "    </tr>\n",
       "    <tr>\n",
       "      <th>2</th>\n",
       "      <td>0.279653</td>\n",
       "      <td>-0.019467</td>\n",
       "      <td>-0.113462</td>\n",
       "      <td>-0.995380</td>\n",
       "      <td>-0.967187</td>\n",
       "      <td>-0.978944</td>\n",
       "      <td>-0.996520</td>\n",
       "      <td>-0.963668</td>\n",
       "      <td>-0.977469</td>\n",
       "      <td>-0.938692</td>\n",
       "      <td>...</td>\n",
       "      <td>0.414503</td>\n",
       "      <td>-0.390748</td>\n",
       "      <td>-0.760104</td>\n",
       "      <td>-0.118559</td>\n",
       "      <td>0.177899</td>\n",
       "      <td>0.100699</td>\n",
       "      <td>0.808529</td>\n",
       "      <td>-0.848933</td>\n",
       "      <td>0.180637</td>\n",
       "      <td>-0.049118</td>\n",
       "    </tr>\n",
       "    <tr>\n",
       "      <th>3</th>\n",
       "      <td>0.279174</td>\n",
       "      <td>-0.026201</td>\n",
       "      <td>-0.123283</td>\n",
       "      <td>-0.996091</td>\n",
       "      <td>-0.983403</td>\n",
       "      <td>-0.990675</td>\n",
       "      <td>-0.997099</td>\n",
       "      <td>-0.982750</td>\n",
       "      <td>-0.989302</td>\n",
       "      <td>-0.938692</td>\n",
       "      <td>...</td>\n",
       "      <td>0.404573</td>\n",
       "      <td>-0.117290</td>\n",
       "      <td>-0.482845</td>\n",
       "      <td>-0.036788</td>\n",
       "      <td>-0.012892</td>\n",
       "      <td>0.640011</td>\n",
       "      <td>-0.485366</td>\n",
       "      <td>-0.848649</td>\n",
       "      <td>0.181935</td>\n",
       "      <td>-0.047663</td>\n",
       "    </tr>\n",
       "    <tr>\n",
       "      <th>4</th>\n",
       "      <td>0.276629</td>\n",
       "      <td>-0.016570</td>\n",
       "      <td>-0.115362</td>\n",
       "      <td>-0.998139</td>\n",
       "      <td>-0.980817</td>\n",
       "      <td>-0.990482</td>\n",
       "      <td>-0.998321</td>\n",
       "      <td>-0.979672</td>\n",
       "      <td>-0.990441</td>\n",
       "      <td>-0.942469</td>\n",
       "      <td>...</td>\n",
       "      <td>0.087753</td>\n",
       "      <td>-0.351471</td>\n",
       "      <td>-0.699205</td>\n",
       "      <td>0.123320</td>\n",
       "      <td>0.122542</td>\n",
       "      <td>0.693578</td>\n",
       "      <td>-0.615971</td>\n",
       "      <td>-0.847865</td>\n",
       "      <td>0.185151</td>\n",
       "      <td>-0.043892</td>\n",
       "    </tr>\n",
       "  </tbody>\n",
       "</table>\n",
       "<p>5 rows × 561 columns</p>\n",
       "</div>"
      ],
      "text/plain": [
       "   tBodyAcc-mean()-X  tBodyAcc-mean()-Y  tBodyAcc-mean()-Z  tBodyAcc-std()-X  \\\n",
       "0           0.288585          -0.020294          -0.132905         -0.995279   \n",
       "1           0.278419          -0.016411          -0.123520         -0.998245   \n",
       "2           0.279653          -0.019467          -0.113462         -0.995380   \n",
       "3           0.279174          -0.026201          -0.123283         -0.996091   \n",
       "4           0.276629          -0.016570          -0.115362         -0.998139   \n",
       "\n",
       "   tBodyAcc-std()-Y  tBodyAcc-std()-Z  tBodyAcc-mad()-X  tBodyAcc-mad()-Y  \\\n",
       "0         -0.983111         -0.913526         -0.995112         -0.983185   \n",
       "1         -0.975300         -0.960322         -0.998807         -0.974914   \n",
       "2         -0.967187         -0.978944         -0.996520         -0.963668   \n",
       "3         -0.983403         -0.990675         -0.997099         -0.982750   \n",
       "4         -0.980817         -0.990482         -0.998321         -0.979672   \n",
       "\n",
       "   tBodyAcc-mad()-Z  tBodyAcc-max()-X          ...           \\\n",
       "0         -0.923527         -0.934724          ...            \n",
       "1         -0.957686         -0.943068          ...            \n",
       "2         -0.977469         -0.938692          ...            \n",
       "3         -0.989302         -0.938692          ...            \n",
       "4         -0.990441         -0.942469          ...            \n",
       "\n",
       "   fBodyBodyGyroJerkMag-meanFreq()  fBodyBodyGyroJerkMag-skewness()  \\\n",
       "0                        -0.074323                        -0.298676   \n",
       "1                         0.158075                        -0.595051   \n",
       "2                         0.414503                        -0.390748   \n",
       "3                         0.404573                        -0.117290   \n",
       "4                         0.087753                        -0.351471   \n",
       "\n",
       "   fBodyBodyGyroJerkMag-kurtosis()  angle(tBodyAccMean,gravity)  \\\n",
       "0                        -0.710304                    -0.112754   \n",
       "1                        -0.861499                     0.053477   \n",
       "2                        -0.760104                    -0.118559   \n",
       "3                        -0.482845                    -0.036788   \n",
       "4                        -0.699205                     0.123320   \n",
       "\n",
       "   angle(tBodyAccJerkMean),gravityMean)  angle(tBodyGyroMean,gravityMean)  \\\n",
       "0                              0.030400                         -0.464761   \n",
       "1                             -0.007435                         -0.732626   \n",
       "2                              0.177899                          0.100699   \n",
       "3                             -0.012892                          0.640011   \n",
       "4                              0.122542                          0.693578   \n",
       "\n",
       "   angle(tBodyGyroJerkMean,gravityMean)  angle(X,gravityMean)  \\\n",
       "0                             -0.018446             -0.841247   \n",
       "1                              0.703511             -0.844788   \n",
       "2                              0.808529             -0.848933   \n",
       "3                             -0.485366             -0.848649   \n",
       "4                             -0.615971             -0.847865   \n",
       "\n",
       "   angle(Y,gravityMean)  angle(Z,gravityMean)  \n",
       "0              0.179941             -0.058627  \n",
       "1              0.180289             -0.054317  \n",
       "2              0.180637             -0.049118  \n",
       "3              0.181935             -0.047663  \n",
       "4              0.185151             -0.043892  \n",
       "\n",
       "[5 rows x 561 columns]"
      ]
     },
     "execution_count": 9,
     "metadata": {},
     "output_type": "execute_result"
    }
   ],
   "source": [
    "X_train.head()"
   ]
  },
  {
   "cell_type": "code",
   "execution_count": 10,
   "metadata": {
    "collapsed": false
   },
   "outputs": [
    {
     "data": {
      "text/html": [
       "<div>\n",
       "<table border=\"1\" class=\"dataframe\">\n",
       "  <thead>\n",
       "    <tr style=\"text-align: right;\">\n",
       "      <th></th>\n",
       "      <th>activity</th>\n",
       "    </tr>\n",
       "  </thead>\n",
       "  <tbody>\n",
       "    <tr>\n",
       "      <th>0</th>\n",
       "      <td>5</td>\n",
       "    </tr>\n",
       "    <tr>\n",
       "      <th>1</th>\n",
       "      <td>5</td>\n",
       "    </tr>\n",
       "    <tr>\n",
       "      <th>2</th>\n",
       "      <td>5</td>\n",
       "    </tr>\n",
       "    <tr>\n",
       "      <th>3</th>\n",
       "      <td>5</td>\n",
       "    </tr>\n",
       "    <tr>\n",
       "      <th>4</th>\n",
       "      <td>5</td>\n",
       "    </tr>\n",
       "  </tbody>\n",
       "</table>\n",
       "</div>"
      ],
      "text/plain": [
       "   activity\n",
       "0         5\n",
       "1         5\n",
       "2         5\n",
       "3         5\n",
       "4         5"
      ]
     },
     "execution_count": 10,
     "metadata": {},
     "output_type": "execute_result"
    }
   ],
   "source": [
    "y_train = pd.read_csv('./UCI HAR Dataset/train/y_train.txt', sep='\\s+', \n",
    "           names = [\"activity\"], header = None)\n",
    "y_train.head()"
   ]
  },
  {
   "cell_type": "markdown",
   "metadata": {},
   "source": [
    "### Drop duplicate columns in X_train and X_test"
   ]
  },
  {
   "cell_type": "code",
   "execution_count": 11,
   "metadata": {
    "collapsed": false,
    "scrolled": true
   },
   "outputs": [],
   "source": [
    "def to_delete_dup_cols(df):\n",
    "    Cols = list(df.columns)\n",
    "    for i,item in enumerate(df.columns):\n",
    "        if item in df.columns[:i]: Cols[i] = \"toDROP\"\n",
    "    df.columns = Cols\n",
    "    df = df.drop(\"toDROP\",1)\n",
    "    return df\n",
    "X_test = to_delete_dup_cols(X_test)\n",
    "X_train = to_delete_dup_cols(X_train)"
   ]
  },
  {
   "cell_type": "markdown",
   "metadata": {},
   "source": [
    "### Plot frequency of activity in training and test sets"
   ]
  },
  {
   "cell_type": "code",
   "execution_count": 12,
   "metadata": {
    "collapsed": false
   },
   "outputs": [
    {
     "data": {
      "image/png": "[encoded data removed]",
      "text/plain": [
       "<matplotlib.figure.Figure at 0x1177b7810>"
      ]
     },
     "metadata": {},
     "output_type": "display_data"
    }
   ],
   "source": [
    "y_train.hist(bins=6)\n",
    "plt.xlim(1,6)\n",
    "plt.show()"
   ]
  },
  {
   "cell_type": "code",
   "execution_count": 13,
   "metadata": {
    "collapsed": false
   },
   "outputs": [
    {
     "data": {
      "image/png": "[encoded data removed]",
      "text/plain": [
       "<matplotlib.figure.Figure at 0x11774ec90>"
      ]
     },
     "metadata": {},
     "output_type": "display_data"
    }
   ],
   "source": [
    "y_test.hist(bins=6)\n",
    "plt.xlim(1,6)\n",
    "plt.show()"
   ]
  },
  {
   "cell_type": "markdown",
   "metadata": {},
   "source": [
    "### Fit Random Forest Classifier for 500 and 50 estimators"
   ]
  },
  {
   "cell_type": "code",
   "execution_count": 14,
   "metadata": {
    "collapsed": true
   },
   "outputs": [],
   "source": [
    "rfc = RandomForestClassifier(n_estimators=500, oob_score=True)"
   ]
  },
  {
   "cell_type": "code",
   "execution_count": 15,
   "metadata": {
    "collapsed": false
   },
   "outputs": [
    {
     "data": {
      "text/plain": [
       "RandomForestClassifier(bootstrap=True, class_weight=None, criterion='gini',\n",
       "            max_depth=None, max_features='auto', max_leaf_nodes=None,\n",
       "            min_samples_leaf=1, min_samples_split=2,\n",
       "            min_weight_fraction_leaf=0.0, n_estimators=500, n_jobs=1,\n",
       "            oob_score=True, random_state=None, verbose=0, warm_start=False)"
      ]
     },
     "execution_count": 15,
     "metadata": {},
     "output_type": "execute_result"
    }
   ],
   "source": [
    "rfc.fit(X_train, y_train)"
   ]
  },
  {
   "cell_type": "code",
   "execution_count": 16,
   "metadata": {
    "collapsed": false
   },
   "outputs": [
    {
     "data": {
      "text/plain": [
       "RandomForestClassifier(bootstrap=True, class_weight=None, criterion='gini',\n",
       "            max_depth=None, max_features='auto', max_leaf_nodes=None,\n",
       "            min_samples_leaf=1, min_samples_split=2,\n",
       "            min_weight_fraction_leaf=0.0, n_estimators=50, n_jobs=1,\n",
       "            oob_score=True, random_state=None, verbose=0, warm_start=False)"
      ]
     },
     "execution_count": 16,
     "metadata": {},
     "output_type": "execute_result"
    }
   ],
   "source": [
    "rfc50 = RandomForestClassifier(n_estimators=50, oob_score=True)\n",
    "rfc50.fit(X_train, y_train)"
   ]
  },
  {
   "cell_type": "markdown",
   "metadata": {},
   "source": [
    "### Get the top 10 Features based on importance scores"
   ]
  },
  {
   "cell_type": "code",
   "execution_count": 17,
   "metadata": {
    "collapsed": false
   },
   "outputs": [
    {
     "name": "stdout",
     "output_type": "stream",
     "text": [
      "[(0.032, 'tGravityAcc-mean()-X'), (0.0319, 'tGravityAcc-min()-X'), (0.0292, 'tGravityAcc-max()-X'), (0.0279, 'tGravityAcc-mean()-Y'), (0.0271, 'angle(X,gravityMean)'), (0.0263, 'tGravityAcc-energy()-X'), (0.0251, 'angle(Y,gravityMean)'), (0.0238, 'tGravityAcc-max()-Y'), (0.0229, 'tGravityAcc-min()-Y'), (0.0193, 'tGravityAcc-energy()-Y')]\n"
     ]
    }
   ],
   "source": [
    "print(sorted(zip(map(lambda x: round(x, 4), rfc.feature_importances_), X_train), \n",
    "             reverse=True)[:10])"
   ]
  },
  {
   "cell_type": "markdown",
   "metadata": {},
   "source": [
    "### Compare 500 estimators vs 50 estimators oob_score"
   ]
  },
  {
   "cell_type": "code",
   "execution_count": 18,
   "metadata": {
    "collapsed": false
   },
   "outputs": [
    {
     "data": {
      "text/plain": [
       "0.98354189336235043"
      ]
     },
     "execution_count": 18,
     "metadata": {},
     "output_type": "execute_result"
    }
   ],
   "source": [
    "rfc.oob_score_"
   ]
  },
  {
   "cell_type": "code",
   "execution_count": 19,
   "metadata": {
    "collapsed": false
   },
   "outputs": [
    {
     "data": {
      "text/plain": [
       "0.9786452665941241"
      ]
     },
     "execution_count": 19,
     "metadata": {},
     "output_type": "execute_result"
    }
   ],
   "source": [
    "rfc50.oob_score_"
   ]
  },
  {
   "cell_type": "markdown",
   "metadata": {},
   "source": [
    "### Confusion matrix, accuract, F1 score, and Classification Report for 500 estimators"
   ]
  },
  {
   "cell_type": "code",
   "execution_count": 20,
   "metadata": {
    "collapsed": false
   },
   "outputs": [
    {
     "data": {
      "text/plain": [
       "array([5, 5, 5, ..., 2, 2, 1])"
      ]
     },
     "execution_count": 20,
     "metadata": {},
     "output_type": "execute_result"
    }
   ],
   "source": [
    "y_pred = rfc.predict(X_test)\n",
    "y_pred"
   ]
  },
  {
   "cell_type": "code",
   "execution_count": 21,
   "metadata": {
    "collapsed": false
   },
   "outputs": [
    {
     "name": "stdout",
     "output_type": "stream",
     "text": [
      "Confusion matrix:\n",
      " [[480   8   8   0   0   0]\n",
      " [ 34 431   6   0   0   0]\n",
      " [ 21  38 361   0   0   0]\n",
      " [  0   0   0 432  59   0]\n",
      " [  0   0   0  45 487   0]\n",
      " [  0   0   0   0   0 537]]\n",
      "Accuracy:\n",
      " 0.925687139464\n",
      "F1 Score:  0.925508056913\n",
      "Classification Report:\n",
      "                     precision    recall  f1-score   support\n",
      "\n",
      "           WALKING       0.90      0.97      0.93       496\n",
      "  WALKING_UPSTAIRS       0.90      0.92      0.91       471\n",
      "WALKING_DOWNSTAIRS       0.96      0.86      0.91       420\n",
      "           SITTING       0.91      0.88      0.89       491\n",
      "          STANDING       0.89      0.92      0.90       532\n",
      "            LAYING       1.00      1.00      1.00       537\n",
      "\n",
      "       avg / total       0.93      0.93      0.93      2947\n",
      "\n"
     ]
    }
   ],
   "source": [
    "print(\"Confusion matrix:\\n\", confusion_matrix(y_test, y_pred))\n",
    "print(\"Accuracy:\\n\", accuracy_score(y_test, y_pred))\n",
    "print('F1 Score: ', f1_score(y_test, y_pred))\n",
    "print(\"Classification Report:\\n\", classification_report(y_test, y_pred, target_names = [\"WALKING\", \"WALKING_UPSTAIRS\", \n",
    "                                                                            \"WALKING_DOWNSTAIRS\", \"SITTING\",\n",
    "                                                                             \"STANDING\", \"LAYING\"]))"
   ]
  },
  {
   "cell_type": "markdown",
   "metadata": {},
   "source": [
    "### Precision_recall curve"
   ]
  },
  {
   "cell_type": "code",
   "execution_count": 22,
   "metadata": {
    "collapsed": false
   },
   "outputs": [
    {
     "data": {
      "image/png": "[encoded data removed]",
      "text/plain": [
       "<matplotlib.figure.Figure at 0x117b0e090>"
      ]
     },
     "metadata": {},
     "output_type": "display_data"
    }
   ],
   "source": [
    "decision_values = rfc.predict_proba(X_test)[:,1]\n",
    "\n",
    "precision, recall, thresholds = precision_recall_curve([y_test.iloc[i] == y_pred[i] for i in range(0,len(y_test))], \n",
    "                                                       decision_values, pos_label=True)\n",
    "\n",
    "plt.plot(recall, precision)\n",
    "plt.xlim([0.0, 1.05])\n",
    "plt.ylim([0.0, 1.0])\n",
    "plt.xlabel('Recall')\n",
    "plt.ylabel('Precision')\n",
    "plt.show()"
   ]
  },
  {
   "cell_type": "markdown",
   "metadata": {},
   "source": [
    "### PCA on HAR data"
   ]
  },
  {
   "cell_type": "code",
   "execution_count": 24,
   "metadata": {
    "collapsed": false
   },
   "outputs": [],
   "source": [
    "X_std = StandardScaler().fit_transform(X_train)"
   ]
  },
  {
   "cell_type": "code",
   "execution_count": 25,
   "metadata": {
    "collapsed": false
   },
   "outputs": [
    {
     "name": "stdout",
     "output_type": "stream",
     "text": [
      "Eigenvectors \n",
      "[[ -2.91118824e-04 +0.00000000e+00j   1.69329474e-02 +0.00000000e+00j\n",
      "   -3.75675938e-02 +0.00000000e+00j ...,  -8.19399443e-15 +7.93528762e-15j\n",
      "   -8.19399443e-15 -7.93528762e-15j  -5.63083479e-17 +0.00000000e+00j]\n",
      " [ -2.69657408e-03 +0.00000000e+00j  -1.00162136e-03 +0.00000000e+00j\n",
      "    6.15828200e-04 +0.00000000e+00j ...,   5.24378950e-15 -5.00926555e-15j\n",
      "    5.24378950e-15 +5.00926555e-15j   3.41924711e-17 +0.00000000e+00j]\n",
      " [ -1.58138749e-03 +0.00000000e+00j  -4.99892632e-03 +0.00000000e+00j\n",
      "    1.32769364e-02 +0.00000000e+00j ...,   3.88404436e-16 -1.50618837e-14j\n",
      "    3.88404436e-16 +1.50618837e-14j   4.70728599e-17 +0.00000000e+00j]\n",
      " ..., \n",
      " [ -2.56145354e-02 +0.00000000e+00j   1.32929876e-02 +0.00000000e+00j\n",
      "    1.64149982e-01 +0.00000000e+00j ...,  -2.34501558e-13 -1.18718280e-13j\n",
      "   -2.34501558e-13 +1.18718280e-13j  -9.94661124e-16 +0.00000000e+00j]\n",
      " [  3.31036037e-02 +0.00000000e+00j  -3.13972797e-02 +0.00000000e+00j\n",
      "   -1.29054634e-01 +0.00000000e+00j ...,  -4.23118067e-13 -3.03397674e-13j\n",
      "   -4.23118067e-13 +3.03397674e-13j  -1.62709998e-15 +0.00000000e+00j]\n",
      " [  2.98100591e-02 +0.00000000e+00j  -9.78495929e-03 +0.00000000e+00j\n",
      "   -1.20771274e-01 +0.00000000e+00j ...,   4.35147726e-14 -3.98495149e-14j\n",
      "    4.35147726e-14 +3.98495149e-14j   1.56864215e-16 +0.00000000e+00j]]\n",
      "\n",
      "Eigenvalues \n",
      "[  2.39814023e+02 +0.00000000e+00j   3.29587190e+01 +0.00000000e+00j\n",
      "   1.46014488e+01 +0.00000000e+00j   1.18597014e+01 +0.00000000e+00j\n",
      "   8.68589005e+00 +0.00000000e+00j   8.32092020e+00 +0.00000000e+00j\n",
      "   6.70453404e+00 +0.00000000e+00j   5.75782369e+00 +0.00000000e+00j\n",
      "   5.02582735e+00 +0.00000000e+00j   4.27734847e+00 +0.00000000e+00j\n",
      "   4.02849241e+00 +0.00000000e+00j   3.83475795e+00 +0.00000000e+00j\n",
      "   3.48441851e+00 +0.00000000e+00j   3.40426438e+00 +0.00000000e+00j\n",
      "   3.18790275e+00 +0.00000000e+00j   3.07537741e+00 +0.00000000e+00j\n",
      "   3.00480178e+00 +0.00000000e+00j   2.82182675e+00 +0.00000000e+00j\n",
      "   2.77096427e+00 +0.00000000e+00j   2.66192935e+00 +0.00000000e+00j\n",
      "   2.49062530e+00 +0.00000000e+00j   2.45264355e+00 +0.00000000e+00j\n",
      "   2.38787775e+00 +0.00000000e+00j   2.26510101e+00 +0.00000000e+00j\n",
      "   2.22465311e+00 +0.00000000e+00j   2.13327110e+00 +0.00000000e+00j\n",
      "   2.03644225e+00 +0.00000000e+00j   2.00120608e+00 +0.00000000e+00j\n",
      "   1.90499852e+00 +0.00000000e+00j   1.89458178e+00 +0.00000000e+00j\n",
      "   1.86023670e+00 +0.00000000e+00j   1.78676496e+00 +0.00000000e+00j\n",
      "   1.73828724e+00 +0.00000000e+00j   1.68326401e+00 +0.00000000e+00j\n",
      "   1.59729558e+00 +0.00000000e+00j   1.52826022e+00 +0.00000000e+00j\n",
      "   1.50043455e+00 +0.00000000e+00j   1.46199961e+00 +0.00000000e+00j\n",
      "   1.43386626e+00 +0.00000000e+00j   1.39280532e+00 +0.00000000e+00j\n",
      "   1.35670650e+00 +0.00000000e+00j   1.29257955e+00 +0.00000000e+00j\n",
      "   1.27313611e+00 +0.00000000e+00j   1.25214575e+00 +0.00000000e+00j\n",
      "   1.22034309e+00 +0.00000000e+00j   1.18664564e+00 +0.00000000e+00j\n",
      "   1.15648090e+00 +0.00000000e+00j   1.12224995e+00 +0.00000000e+00j\n",
      "   1.09640754e+00 +0.00000000e+00j   1.08807737e+00 +0.00000000e+00j\n",
      "   1.06785462e+00 +0.00000000e+00j   1.05530032e+00 +0.00000000e+00j\n",
      "   1.02789621e+00 +0.00000000e+00j   1.01326461e+00 +0.00000000e+00j\n",
      "   1.00264214e+00 +0.00000000e+00j   9.83289964e-01 +0.00000000e+00j\n",
      "   9.66296244e-01 +0.00000000e+00j   9.48898358e-01 +0.00000000e+00j\n",
      "   9.17688710e-01 +0.00000000e+00j   9.00816159e-01 +0.00000000e+00j\n",
      "   8.87587221e-01 +0.00000000e+00j   8.72642535e-01 +0.00000000e+00j\n",
      "   8.58045462e-01 +0.00000000e+00j   8.54610628e-01 +0.00000000e+00j\n",
      "   8.33629363e-01 +0.00000000e+00j   8.23243208e-01 +0.00000000e+00j\n",
      "   7.99593925e-01 +0.00000000e+00j   7.91391558e-01 +0.00000000e+00j\n",
      "   7.83375804e-01 +0.00000000e+00j   7.74296848e-01 +0.00000000e+00j\n",
      "   7.59560246e-01 +0.00000000e+00j   7.52893945e-01 +0.00000000e+00j\n",
      "   7.00998025e-01 +0.00000000e+00j   7.32831204e-01 +0.00000000e+00j\n",
      "   7.23812665e-01 +0.00000000e+00j   7.16574796e-01 +0.00000000e+00j\n",
      "   6.92209155e-01 +0.00000000e+00j   6.66998723e-01 +0.00000000e+00j\n",
      "   6.59044095e-01 +0.00000000e+00j   6.51237528e-01 +0.00000000e+00j\n",
      "   6.39178000e-01 +0.00000000e+00j   6.26497492e-01 +0.00000000e+00j\n",
      "   6.22809861e-01 +0.00000000e+00j   6.02833108e-01 +0.00000000e+00j\n",
      "   5.93482847e-01 +0.00000000e+00j   5.88391772e-01 +0.00000000e+00j\n",
      "   5.76003349e-01 +0.00000000e+00j   5.68383604e-01 +0.00000000e+00j\n",
      "   5.61106141e-01 +0.00000000e+00j   5.50983608e-01 +0.00000000e+00j\n",
      "   5.38944366e-01 +0.00000000e+00j   5.41819670e-01 +0.00000000e+00j\n",
      "   5.21655554e-01 +0.00000000e+00j   5.09064627e-01 +0.00000000e+00j\n",
      "   5.05164435e-01 +0.00000000e+00j   5.00184946e-01 +0.00000000e+00j\n",
      "   4.92577684e-01 +0.00000000e+00j   3.90006016e-01 +0.00000000e+00j\n",
      "   3.95668568e-01 +0.00000000e+00j   4.06641019e-01 +0.00000000e+00j\n",
      "   4.13162780e-01 +0.00000000e+00j   4.84429936e-01 +0.00000000e+00j\n",
      "   4.26666417e-01 +0.00000000e+00j   4.38273978e-01 +0.00000000e+00j\n",
      "   4.31113168e-01 +0.00000000e+00j   4.53093638e-01 +0.00000000e+00j\n",
      "   4.47186044e-01 +0.00000000e+00j   4.66379828e-01 +0.00000000e+00j\n",
      "   4.70104139e-01 +0.00000000e+00j   4.72461467e-01 +0.00000000e+00j\n",
      "   3.82533694e-01 +0.00000000e+00j   3.77769255e-01 +0.00000000e+00j\n",
      "   3.61060719e-01 +0.00000000e+00j   3.67334772e-01 +0.00000000e+00j\n",
      "   3.67922872e-01 +0.00000000e+00j   3.48011334e-01 +0.00000000e+00j\n",
      "   3.41161776e-01 +0.00000000e+00j   3.38222137e-01 +0.00000000e+00j\n",
      "   3.25089539e-01 +0.00000000e+00j   3.22045132e-01 +0.00000000e+00j\n",
      "   3.23987317e-01 +0.00000000e+00j   3.19131350e-01 +0.00000000e+00j\n",
      "   3.11802788e-01 +0.00000000e+00j   1.95836115e-01 +0.00000000e+00j\n",
      "   1.98144230e-01 +0.00000000e+00j   3.07919959e-01 +0.00000000e+00j\n",
      "   3.01138962e-01 +0.00000000e+00j   2.90088606e-01 +0.00000000e+00j\n",
      "   2.06061911e-01 +0.00000000e+00j   2.09104550e-01 +0.00000000e+00j\n",
      "   2.15898041e-01 +0.00000000e+00j   2.21404227e-01 +0.00000000e+00j\n",
      "   2.26007810e-01 +0.00000000e+00j   2.27603178e-01 +0.00000000e+00j\n",
      "   2.32447888e-01 +0.00000000e+00j   2.77280006e-01 +0.00000000e+00j\n",
      "   2.73698292e-01 +0.00000000e+00j   2.39539969e-01 +0.00000000e+00j\n",
      "   2.45420980e-01 +0.00000000e+00j   2.66854182e-01 +0.00000000e+00j\n",
      "   2.64164341e-01 +0.00000000e+00j   2.55749460e-01 +0.00000000e+00j\n",
      "   2.58098693e-01 +0.00000000e+00j   2.49595182e-01 +0.00000000e+00j\n",
      "   1.72675167e-01 +0.00000000e+00j   1.79641888e-01 +0.00000000e+00j\n",
      "   1.86511028e-01 +0.00000000e+00j   1.93072071e-01 +0.00000000e+00j\n",
      "   1.59581321e-01 +0.00000000e+00j   1.53034784e-01 +0.00000000e+00j\n",
      "   1.49806139e-01 +0.00000000e+00j   1.41480342e-01 +0.00000000e+00j\n",
      "   1.39363095e-01 +0.00000000e+00j   1.33830470e-01 +0.00000000e+00j\n",
      "   1.29687634e-01 +0.00000000e+00j   1.24614934e-01 +0.00000000e+00j\n",
      "   1.21145715e-01 +0.00000000e+00j   1.17875983e-01 +0.00000000e+00j\n",
      "   1.12920246e-01 +0.00000000e+00j   1.08769907e-01 +0.00000000e+00j\n",
      "   1.06310073e-01 +0.00000000e+00j   1.04850532e-01 +0.00000000e+00j\n",
      "   9.92980634e-02 +0.00000000e+00j   9.60748607e-02 +0.00000000e+00j\n",
      "   9.47161658e-02 +0.00000000e+00j   8.92573166e-02 +0.00000000e+00j\n",
      "   8.72372656e-02 +0.00000000e+00j   8.49407275e-02 +0.00000000e+00j\n",
      "   8.36750342e-02 +0.00000000e+00j   8.14332076e-02 +0.00000000e+00j\n",
      "   7.85979263e-02 +0.00000000e+00j   7.82588869e-02 +0.00000000e+00j\n",
      "   7.59137827e-02 +0.00000000e+00j   6.10278464e-02 +0.00000000e+00j\n",
      "   7.20922665e-02 +0.00000000e+00j   6.93414326e-02 +0.00000000e+00j\n",
      "   6.57817893e-02 +0.00000000e+00j   6.75212895e-02 +0.00000000e+00j\n",
      "   6.04708269e-02 +0.00000000e+00j   5.94758119e-02 +0.00000000e+00j\n",
      "   5.81156544e-02 +0.00000000e+00j   5.74247419e-02 +0.00000000e+00j\n",
      "   5.64067690e-02 +0.00000000e+00j   5.42606299e-02 +0.00000000e+00j\n",
      "   5.36691448e-02 +0.00000000e+00j   5.17976347e-02 +0.00000000e+00j\n",
      "   5.09696333e-02 +0.00000000e+00j   5.04349033e-02 +0.00000000e+00j\n",
      "   4.97302564e-02 +0.00000000e+00j   4.90080290e-02 +0.00000000e+00j\n",
      "   4.83183271e-02 +0.00000000e+00j   4.66750889e-02 +0.00000000e+00j\n",
      "   4.61943766e-02 +0.00000000e+00j   3.47853462e-02 +0.00000000e+00j\n",
      "   3.58396378e-02 +0.00000000e+00j   4.44038016e-02 +0.00000000e+00j\n",
      "   4.38339534e-02 +0.00000000e+00j   4.35851383e-02 +0.00000000e+00j\n",
      "   4.28477308e-02 +0.00000000e+00j   3.66087677e-02 +0.00000000e+00j\n",
      "   3.70456139e-02 +0.00000000e+00j   4.19619119e-02 +0.00000000e+00j\n",
      "   4.13778400e-02 +0.00000000e+00j   4.03969578e-02 +0.00000000e+00j\n",
      "   3.82763155e-02 +0.00000000e+00j   3.88761364e-02 +0.00000000e+00j\n",
      "   3.96037164e-02 +0.00000000e+00j   3.43166587e-02 +0.00000000e+00j\n",
      "   3.40055690e-02 +0.00000000e+00j   3.32563112e-02 +0.00000000e+00j\n",
      "   3.29147886e-02 +0.00000000e+00j   3.21836368e-02 +0.00000000e+00j\n",
      "   3.20006407e-02 +0.00000000e+00j   3.08812236e-02 +0.00000000e+00j\n",
      "   3.03572252e-02 +0.00000000e+00j   3.02779286e-02 +0.00000000e+00j\n",
      "   2.92992695e-02 +0.00000000e+00j   2.88423033e-02 +0.00000000e+00j\n",
      "   2.81507908e-02 +0.00000000e+00j   2.45864262e-02 +0.00000000e+00j\n",
      "   2.47391885e-02 +0.00000000e+00j   2.74614581e-02 +0.00000000e+00j\n",
      "   2.52278205e-02 +0.00000000e+00j   2.54629300e-02 +0.00000000e+00j\n",
      "   2.69319024e-02 +0.00000000e+00j   2.64335780e-02 +0.00000000e+00j\n",
      "   2.63148709e-02 +0.00000000e+00j   2.38082732e-02 +0.00000000e+00j\n",
      "   2.34010974e-02 +0.00000000e+00j   2.32016367e-02 +0.00000000e+00j\n",
      "   2.22980711e-02 +0.00000000e+00j   2.20238738e-02 +0.00000000e+00j\n",
      "   1.84793615e-02 +0.00000000e+00j   1.88894306e-02 +0.00000000e+00j\n",
      "   2.09149520e-02 +0.00000000e+00j   1.94260430e-02 +0.00000000e+00j\n",
      "   1.96885832e-02 +0.00000000e+00j   2.01018457e-02 +0.00000000e+00j\n",
      "   2.05118132e-02 +0.00000000e+00j   2.04386941e-02 +0.00000000e+00j\n",
      "   1.49621061e-02 +0.00000000e+00j   1.54227800e-02 +0.00000000e+00j\n",
      "   1.56769609e-02 +0.00000000e+00j   1.60000726e-02 +0.00000000e+00j\n",
      "   1.63769946e-02 +0.00000000e+00j   1.65985179e-02 +0.00000000e+00j\n",
      "   1.71373840e-02 +0.00000000e+00j   1.73998866e-02 +0.00000000e+00j\n",
      "   1.76940311e-02 +0.00000000e+00j   1.80207439e-02 +0.00000000e+00j\n",
      "   1.82231270e-02 +0.00000000e+00j   1.48582831e-02 +0.00000000e+00j\n",
      "   1.47963951e-02 +0.00000000e+00j   1.44971504e-02 +0.00000000e+00j\n",
      "   1.23111757e-02 +0.00000000e+00j   1.25683493e-02 +0.00000000e+00j\n",
      "   1.26404986e-02 +0.00000000e+00j   1.38834920e-02 +0.00000000e+00j\n",
      "   1.37389380e-02 +0.00000000e+00j   1.30041502e-02 +0.00000000e+00j\n",
      "   1.32271202e-02 +0.00000000e+00j   1.34069186e-02 +0.00000000e+00j\n",
      "   1.00601855e-02 +0.00000000e+00j   1.21135668e-02 +0.00000000e+00j\n",
      "   1.19746039e-02 +0.00000000e+00j   1.16717986e-02 +0.00000000e+00j\n",
      "   1.14426913e-02 +0.00000000e+00j   1.11914108e-02 +0.00000000e+00j\n",
      "   1.04331765e-02 +0.00000000e+00j   1.04534885e-02 +0.00000000e+00j\n",
      "   1.08933788e-02 +0.00000000e+00j   1.07530249e-02 +0.00000000e+00j\n",
      "   1.02498102e-02 +0.00000000e+00j   8.33664578e-03 +0.00000000e+00j\n",
      "   8.46184230e-03 +0.00000000e+00j   9.83809150e-03 +0.00000000e+00j\n",
      "   8.71055836e-03 +0.00000000e+00j   9.55943028e-03 +0.00000000e+00j\n",
      "   8.87085968e-03 +0.00000000e+00j   9.40084752e-03 +0.00000000e+00j\n",
      "   9.29317812e-03 +0.00000000e+00j   9.08612910e-03 +0.00000000e+00j\n",
      "   9.18108468e-03 +0.00000000e+00j   8.15863909e-03 +0.00000000e+00j\n",
      "   8.04837976e-03 +0.00000000e+00j   7.80985584e-03 +0.00000000e+00j\n",
      "   7.57067760e-03 +0.00000000e+00j   7.46964116e-03 +0.00000000e+00j\n",
      "   6.77495419e-03 +0.00000000e+00j   6.90173769e-03 +0.00000000e+00j\n",
      "   7.09010087e-03 +0.00000000e+00j   7.13100225e-03 +0.00000000e+00j\n",
      "   7.31199207e-03 +0.00000000e+00j   6.65781510e-03 +0.00000000e+00j\n",
      "   6.50444134e-03 +0.00000000e+00j   6.29616970e-03 +0.00000000e+00j\n",
      "   6.21512527e-03 +0.00000000e+00j   5.99603241e-03 +0.00000000e+00j\n",
      "   5.84859038e-03 +0.00000000e+00j   5.76331523e-03 +0.00000000e+00j\n",
      "   5.60032354e-03 +0.00000000e+00j   5.38203374e-03 +0.00000000e+00j\n",
      "   5.32081142e-03 +0.00000000e+00j   5.11389953e-03 +0.00000000e+00j\n",
      "   4.89333888e-03 +0.00000000e+00j   4.91144841e-03 +0.00000000e+00j\n",
      "   4.98752614e-03 +0.00000000e+00j   4.46955174e-03 +0.00000000e+00j\n",
      "   4.45225304e-03 +0.00000000e+00j   4.25068038e-03 +0.00000000e+00j\n",
      "   4.01503469e-03 +0.00000000e+00j   4.12177629e-03 +0.00000000e+00j\n",
      "   4.09868934e-03 +0.00000000e+00j   3.79562377e-03 +0.00000000e+00j\n",
      "   3.75493079e-03 +0.00000000e+00j   3.57932341e-03 +0.00000000e+00j\n",
      "   3.46588011e-03 +0.00000000e+00j   3.41022191e-03 +0.00000000e+00j\n",
      "   3.28176801e-03 +0.00000000e+00j   3.21904755e-03 +0.00000000e+00j\n",
      "   3.12972442e-03 +0.00000000e+00j   3.08863495e-03 +0.00000000e+00j\n",
      "   2.96934170e-03 +0.00000000e+00j   2.90690872e-03 +0.00000000e+00j\n",
      "   2.79459682e-03 +0.00000000e+00j   2.09582327e-03 +0.00000000e+00j\n",
      "   2.64613790e-03 +0.00000000e+00j   2.19724174e-03 +0.00000000e+00j\n",
      "   2.58987349e-03 +0.00000000e+00j   2.47988596e-03 +0.00000000e+00j\n",
      "   2.55043055e-03 +0.00000000e+00j   2.40499510e-03 +0.00000000e+00j\n",
      "   2.31503502e-03 +0.00000000e+00j   2.33916714e-03 +0.00000000e+00j\n",
      "   2.05240837e-03 +0.00000000e+00j   2.02364380e-03 +0.00000000e+00j\n",
      "   1.92783197e-03 +0.00000000e+00j   1.97256906e-03 +0.00000000e+00j\n",
      "   1.85183478e-03 +0.00000000e+00j   1.71913281e-03 +0.00000000e+00j\n",
      "   1.78759177e-03 +0.00000000e+00j   1.68107864e-03 +0.00000000e+00j\n",
      "   1.53432386e-03 +0.00000000e+00j   1.48675959e-03 +0.00000000e+00j\n",
      "   6.40440344e-04 +0.00000000e+00j   6.44617920e-04 +0.00000000e+00j\n",
      "   1.41526450e-03 +0.00000000e+00j   7.10172552e-04 +0.00000000e+00j\n",
      "   7.44917613e-04 +0.00000000e+00j   7.72375109e-04 +0.00000000e+00j\n",
      "   8.12727611e-04 +0.00000000e+00j   8.42044726e-04 +0.00000000e+00j\n",
      "   8.59381544e-04 +0.00000000e+00j   8.92032249e-04 +0.00000000e+00j\n",
      "   9.30879838e-04 +0.00000000e+00j   1.33609543e-03 +0.00000000e+00j\n",
      "   1.30109859e-03 +0.00000000e+00j   1.06395137e-03 +0.00000000e+00j\n",
      "   1.23508685e-03 +0.00000000e+00j   1.24195099e-03 +0.00000000e+00j\n",
      "   1.18318144e-03 +0.00000000e+00j   1.10937604e-03 +0.00000000e+00j\n",
      "   1.15916820e-03 +0.00000000e+00j   1.13238517e-03 +0.00000000e+00j\n",
      "   5.77549529e-04 +0.00000000e+00j   5.59342985e-04 +0.00000000e+00j\n",
      "   4.98019812e-04 +0.00000000e+00j   5.30949338e-04 +0.00000000e+00j\n",
      "   5.12106843e-04 +0.00000000e+00j   4.54588808e-04 +0.00000000e+00j\n",
      "   4.47648869e-04 +0.00000000e+00j   4.40547500e-04 +0.00000000e+00j\n",
      "   4.23192480e-04 +0.00000000e+00j   4.11498604e-04 +0.00000000e+00j\n",
      "   3.91583407e-04 +0.00000000e+00j   3.29496242e-04 +0.00000000e+00j\n",
      "   3.34593437e-04 +0.00000000e+00j   3.41749937e-04 +0.00000000e+00j\n",
      "   3.56435660e-04 +0.00000000e+00j   3.67722043e-04 +0.00000000e+00j\n",
      "   3.14165845e-04 +0.00000000e+00j   2.89365199e-04 +0.00000000e+00j\n",
      "   2.81001503e-04 +0.00000000e+00j   2.76535211e-04 +0.00000000e+00j\n",
      "   2.65249826e-04 +0.00000000e+00j   2.44391786e-04 +0.00000000e+00j\n",
      "   2.31986383e-04 +0.00000000e+00j   1.41996616e-04 +0.00000000e+00j\n",
      "   1.48836939e-04 +0.00000000e+00j   1.56823774e-04 +0.00000000e+00j\n",
      "   1.69155954e-04 +0.00000000e+00j   1.78296089e-04 +0.00000000e+00j\n",
      "   2.20203214e-04 +0.00000000e+00j   2.10664401e-04 +0.00000000e+00j\n",
      "   2.02491550e-04 +0.00000000e+00j   2.03978474e-04 +0.00000000e+00j\n",
      "   2.04682257e-04 +0.00000000e+00j   1.27565666e-04 +0.00000000e+00j\n",
      "   1.17330931e-04 +0.00000000e+00j   8.25007450e-05 +0.00000000e+00j\n",
      "   7.20186557e-05 +0.00000000e+00j   4.26829491e-05 +0.00000000e+00j\n",
      "   2.60042164e-05 +0.00000000e+00j   2.41254360e-05 +0.00000000e+00j\n",
      "   2.10146935e-05 +0.00000000e+00j   1.91174921e-05 +0.00000000e+00j\n",
      "   1.55440652e-05 +0.00000000e+00j   1.52600515e-05 +0.00000000e+00j\n",
      "   1.34516458e-05 +0.00000000e+00j   1.22243265e-05 +0.00000000e+00j\n",
      "   1.26406544e-05 +0.00000000e+00j   9.86212588e-06 +0.00000000e+00j\n",
      "   9.64045089e-06 +0.00000000e+00j   7.12998928e-06 +0.00000000e+00j\n",
      "   6.95943644e-06 +0.00000000e+00j   6.05948728e-06 +0.00000000e+00j\n",
      "   5.39578213e-06 +0.00000000e+00j   4.21016152e-06 +0.00000000e+00j\n",
      "   3.95635122e-06 +0.00000000e+00j   3.46306835e-06 +0.00000000e+00j\n",
      "   3.37362229e-06 +0.00000000e+00j   2.35940914e-06 +0.00000000e+00j\n",
      "   1.52193340e-07 +0.00000000e+00j   9.36408771e-08 +0.00000000e+00j\n",
      "   6.33354006e-08 +0.00000000e+00j   2.14860408e-09 +0.00000000e+00j\n",
      "   6.23851419e-10 +0.00000000e+00j   1.57307009e-10 +0.00000000e+00j\n",
      "   2.75554362e-15 +0.00000000e+00j   2.05514582e-15 +2.16029254e-16j\n",
      "   2.05514582e-15 -2.16029254e-16j   2.00254769e-15 +0.00000000e+00j\n",
      "   1.56766902e-15 +0.00000000e+00j  -1.22156725e-15 +2.75422656e-16j\n",
      "  -1.22156725e-15 -2.75422656e-16j   1.46759521e-15 +4.52593802e-16j\n",
      "   1.46759521e-15 -4.52593802e-16j  -1.03465698e-15 +0.00000000e+00j\n",
      "   1.21981965e-15 +0.00000000e+00j  -7.05931558e-16 +0.00000000e+00j\n",
      "   1.05700035e-15 +3.49189530e-16j   1.05700035e-15 -3.49189530e-16j\n",
      "   1.48384916e-16 +6.62221169e-16j   1.48384916e-16 -6.62221169e-16j\n",
      "   7.67657091e-16 +2.84291900e-16j   7.67657091e-16 -2.84291900e-16j\n",
      "  -3.87908070e-16 +3.70910459e-16j  -3.87908070e-16 -3.70910459e-16j\n",
      "  -3.78620535e-16 +0.00000000e+00j  -7.76957896e-17 +4.16490400e-16j\n",
      "  -7.76957896e-17 -4.16490400e-16j   3.01197282e-16 +2.36538628e-16j\n",
      "   3.01197282e-16 -2.36538628e-16j   4.27435393e-16 +2.99823589e-17j\n",
      "   4.27435393e-16 -2.99823589e-17j  -1.30639728e-16 +0.00000000e+00j\n",
      "   3.65772707e-18 +0.00000000e+00j   5.12091141e-18 +0.00000000e+00j\n",
      "  -2.19715116e-18 +1.96610267e-18j  -2.19715116e-18 -1.96610267e-18j\n",
      "  -2.17321470e-18 +1.25603462e-18j  -2.17321470e-18 -1.25603462e-18j\n",
      "   2.07647815e-18 +7.76940990e-19j   2.07647815e-18 -7.76940990e-19j\n",
      "   1.60141688e-18 +0.00000000e+00j   7.49374075e-19 +2.09529781e-18j\n",
      "   7.49374075e-19 -2.09529781e-18j   1.22909764e-19 +2.19219148e-18j\n",
      "   1.22909764e-19 -2.19219148e-18j  -1.24346108e-18 +1.66356985e-18j\n",
      "  -1.24346108e-18 -1.66356985e-18j  -4.04917185e-19 +5.09338955e-19j\n",
      "  -4.04917185e-19 -5.09338955e-19j  -7.60411030e-31 +0.00000000e+00j\n",
      "   5.57504779e-32 +2.66642950e-31j   5.57504779e-32 -2.66642950e-31j\n",
      "   8.96177426e-35 +0.00000000e+00j]\n"
     ]
    }
   ],
   "source": [
    "cov_mat = np.cov(X_std.T)\n",
    "eig_vals, eig_vecs = np.linalg.eig(cov_mat)\n",
    "print('Eigenvectors \\n%s' %eig_vecs)\n",
    "print('\\nEigenvalues \\n%s' %eig_vals)\n",
    "# u,s,v = np.linalg.svd(X_std.T) # Could also use SVD"
   ]
  },
  {
   "cell_type": "code",
   "execution_count": 28,
   "metadata": {
    "collapsed": false
   },
   "outputs": [],
   "source": [
    "tot = sum(eig_vals)\n",
    "var_exp = [(i / tot)*100 for i in sorted(eig_vals, reverse=True)]\n",
    "cum_var_exp = np.cumsum(var_exp)"
   ]
  },
  {
   "cell_type": "code",
   "execution_count": 32,
   "metadata": {
    "collapsed": false
   },
   "outputs": [
    {
     "data": {
      "image/png": "[encoded data removed]",
      "text/plain": [
       "<matplotlib.figure.Figure at 0x117fc2c10>"
      ]
     },
     "metadata": {},
     "output_type": "display_data"
    }
   ],
   "source": [
    "with plt.style.context('seaborn-whitegrid'):\n",
    "    plt.figure(figsize=(12, 6))\n",
    "\n",
    "    plt.bar(range(len(eig_vals)), var_exp, alpha=0.5, align='center',\n",
    "            label='individual explained variance')\n",
    "    plt.step(range(len(eig_vals)), cum_var_exp, where='mid',\n",
    "             label='cumulative explained variance')\n",
    "    plt.ylabel('Explained variance ratio')\n",
    "    plt.xlabel('Principal components')\n",
    "    plt.xlim(0,100)\n",
    "    plt.legend(loc='best')\n",
    "    plt.tight_layout()"
   ]
  },
  {
   "cell_type": "markdown",
   "metadata": {},
   "source": [
    "### ~22 Components seems to explain 80% of the variance in the data"
   ]
  },
  {
   "cell_type": "code",
   "execution_count": 33,
   "metadata": {
    "collapsed": true
   },
   "outputs": [],
   "source": [
    "pca = PCA(n_components=22)\n",
    "Y_sklearn = pca.fit_transform(X_std)"
   ]
  },
  {
   "cell_type": "code",
   "execution_count": 35,
   "metadata": {
    "collapsed": true
   },
   "outputs": [],
   "source": [
    "rfcpca = RandomForestClassifier(n_estimators=500, class_weight='balanced', oob_score=True)"
   ]
  },
  {
   "cell_type": "code",
   "execution_count": 39,
   "metadata": {
    "collapsed": false
   },
   "outputs": [],
   "source": [
    "rfcpca.fit(Y_sklearn, y_train)\n",
    "test_features = pca.transform(X_test)\n",
    "ypca_pred = rfcpca.predict(test_features)"
   ]
  },
  {
   "cell_type": "markdown",
   "metadata": {},
   "source": [
    "### Confusion matrix, however, is not so great"
   ]
  },
  {
   "cell_type": "code",
   "execution_count": 40,
   "metadata": {
    "collapsed": false
   },
   "outputs": [
    {
     "name": "stdout",
     "output_type": "stream",
     "text": [
      "Confusion matrix:\n",
      " [[  4   0   0 492   0   0]\n",
      " [  0   0   0 460   6   5]\n",
      " [ 11   0   0 390   4  15]\n",
      " [  0   0   0 467  24   0]\n",
      " [  0   0   0 249 283   0]\n",
      " [  0   0   0 450   1  86]]\n",
      "Accuracy:\n",
      " 0.285035629454\n",
      "F1 Score:  0.223473236777\n",
      "Classification Report:\n",
      "                     precision    recall  f1-score   support\n",
      "\n",
      "           WALKING       0.27      0.01      0.02       496\n",
      "  WALKING_UPSTAIRS       0.00      0.00      0.00       471\n",
      "WALKING_DOWNSTAIRS       0.00      0.00      0.00       420\n",
      "           SITTING       0.19      0.95      0.31       491\n",
      "          STANDING       0.89      0.53      0.67       532\n",
      "            LAYING       0.81      0.16      0.27       537\n",
      "\n",
      "       avg / total       0.38      0.29      0.22      2947\n",
      "\n"
     ]
    }
   ],
   "source": [
    "print(\"Confusion matrix:\\n\", confusion_matrix(y_test, ypca_pred))\n",
    "print(\"Accuracy:\\n\", accuracy_score(y_test, ypca_pred))\n",
    "print('F1 Score: ', f1_score(y_test, ypca_pred))\n",
    "print(\"Classification Report:\\n\", classification_report(y_test, ypca_pred, target_names = [\"WALKING\", \"WALKING_UPSTAIRS\", \n",
    "                                                                            \"WALKING_DOWNSTAIRS\", \"SITTING\",\n",
    "                                                                             \"STANDING\", \"LAYING\"]))"
   ]
  },
  {
   "cell_type": "markdown",
   "metadata": {},
   "source": [
    "### For 100 components the performance is much better than for 22, but should just use all features in Random Forest"
   ]
  },
  {
   "cell_type": "code",
   "execution_count": 41,
   "metadata": {
    "collapsed": true
   },
   "outputs": [],
   "source": [
    "pca2 = PCA(n_components=100)\n",
    "Y_sklearn2 = pca2.fit_transform(X_std)"
   ]
  },
  {
   "cell_type": "code",
   "execution_count": 42,
   "metadata": {
    "collapsed": true
   },
   "outputs": [],
   "source": [
    "rfcpca2 = RandomForestClassifier(n_estimators=500, class_weight='balanced', oob_score=True)\n",
    "rfcpca2.fit(Y_sklearn2, y_train)\n",
    "test_features2 = pca2.transform(X_test)\n",
    "ypca_pred2 = rfcpca2.predict(test_features2)"
   ]
  },
  {
   "cell_type": "code",
   "execution_count": 43,
   "metadata": {
    "collapsed": false
   },
   "outputs": [
    {
     "name": "stdout",
     "output_type": "stream",
     "text": [
      "Confusion matrix:\n",
      " [[ 19   0   0 365   0 112]\n",
      " [  0   5   0 359   1 106]\n",
      " [ 22   0  41 255   9  93]\n",
      " [  0   0   0 476  15   0]\n",
      " [  0   0   0 199 333   0]\n",
      " [  0   0   0 238   3 296]]\n",
      "Accuracy:\n",
      " 0.397013912453\n",
      "F1 Score:  0.336107102398\n",
      "Classification Report:\n",
      "                     precision    recall  f1-score   support\n",
      "\n",
      "           WALKING       0.46      0.04      0.07       496\n",
      "  WALKING_UPSTAIRS       1.00      0.01      0.02       471\n",
      "WALKING_DOWNSTAIRS       1.00      0.10      0.18       420\n",
      "           SITTING       0.25      0.97      0.40       491\n",
      "          STANDING       0.92      0.63      0.75       532\n",
      "            LAYING       0.49      0.55      0.52       537\n",
      "\n",
      "       avg / total       0.68      0.40      0.34      2947\n",
      "\n"
     ]
    }
   ],
   "source": [
    "print(\"Confusion matrix:\\n\", confusion_matrix(y_test, ypca_pred2))\n",
    "print(\"Accuracy:\\n\", accuracy_score(y_test, ypca_pred2))\n",
    "print('F1 Score: ', f1_score(y_test, ypca_pred2))\n",
    "print(\"Classification Report:\\n\", classification_report(y_test, ypca_pred2, target_names = [\"WALKING\", \"WALKING_UPSTAIRS\", \n",
    "                                                                            \"WALKING_DOWNSTAIRS\", \"SITTING\",\n",
    "                                                                             \"STANDING\", \"LAYING\"]))"
   ]
  }
 ],
 "metadata": {
  "kernelspec": {
   "display_name": "Python 2",
   "language": "python",
   "name": "python2"
  },
  "language_info": {
   "codemirror_mode": {
    "name": "ipython",
    "version": 2
   },
   "file_extension": ".py",
   "mimetype": "text/x-python",
   "name": "python",
   "nbconvert_exporter": "python",
   "pygments_lexer": "ipython2",
   "version": "2.7.11"
  }
 },
 "nbformat": 4,
 "nbformat_minor": 0
}
