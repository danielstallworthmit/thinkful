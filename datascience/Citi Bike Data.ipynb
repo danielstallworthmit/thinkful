{
 "cells": [
  {
   "cell_type": "markdown",
   "metadata": {},
   "source": [
    "# Citi Bike Data Analysis\n",
    "===================================="
   ]
  },
  {
   "cell_type": "markdown",
   "metadata": {},
   "source": [
    "### Setup"
   ]
  },
  {
   "cell_type": "code",
   "execution_count": 11,
   "metadata": {
    "collapsed": false
   },
   "outputs": [
    {
     "name": "stderr",
     "output_type": "stream",
     "text": [
      "/Users/danielstallworth/anaconda2/lib/python2.7/site-packages/matplotlib/font_manager.py:273: UserWarning: Matplotlib is building the font cache using fc-list. This may take a moment.\n",
      "  warnings.warn('Matplotlib is building the font cache using fc-list. This may take a moment.')\n"
     ]
    }
   ],
   "source": [
    "import requests\n",
    "from pandas.io.json import json_normalize\n",
    "import matplotlib.pyplot as plt\n",
    "import pandas as pd"
   ]
  },
  {
   "cell_type": "code",
   "execution_count": 14,
   "metadata": {
    "collapsed": true
   },
   "outputs": [],
   "source": [
    "%matplotlib inline"
   ]
  },
  {
   "cell_type": "code",
   "execution_count": 3,
   "metadata": {
    "collapsed": true
   },
   "outputs": [],
   "source": [
    "r = requests.get('http://www.citibikenyc.com/stations/json')"
   ]
  },
  {
   "cell_type": "code",
   "execution_count": 4,
   "metadata": {
    "collapsed": false
   },
   "outputs": [
    {
     "data": {
      "text/plain": [
       "[u'executionTime', u'stationBeanList']"
      ]
     },
     "execution_count": 4,
     "metadata": {},
     "output_type": "execute_result"
    }
   ],
   "source": [
    "r.json().keys()"
   ]
  },
  {
   "cell_type": "code",
   "execution_count": 5,
   "metadata": {
    "collapsed": false
   },
   "outputs": [
    {
     "data": {
      "text/plain": [
       "508"
      ]
     },
     "execution_count": 5,
     "metadata": {},
     "output_type": "execute_result"
    }
   ],
   "source": [
    "len(r.json()['stationBeanList'])"
   ]
  },
  {
   "cell_type": "markdown",
   "metadata": {},
   "source": [
    "### The real data is in stationBeanList"
   ]
  },
  {
   "cell_type": "code",
   "execution_count": 7,
   "metadata": {
    "collapsed": true
   },
   "outputs": [],
   "source": [
    "key_list = []\n",
    "for station in r.json()['stationBeanList']:\n",
    "    for k in station.keys():\n",
    "        if k not in key_list:\n",
    "            key_list.append(k)"
   ]
  },
  {
   "cell_type": "code",
   "execution_count": 8,
   "metadata": {
    "collapsed": false
   },
   "outputs": [
    {
     "data": {
      "text/plain": [
       "[u'availableDocks',\n",
       " u'totalDocks',\n",
       " u'city',\n",
       " u'altitude',\n",
       " u'stAddress2',\n",
       " u'longitude',\n",
       " u'lastCommunicationTime',\n",
       " u'postalCode',\n",
       " u'statusValue',\n",
       " u'testStation',\n",
       " u'stAddress1',\n",
       " u'stationName',\n",
       " u'landMark',\n",
       " u'latitude',\n",
       " u'statusKey',\n",
       " u'availableBikes',\n",
       " u'id',\n",
       " u'location']"
      ]
     },
     "execution_count": 8,
     "metadata": {},
     "output_type": "execute_result"
    }
   ],
   "source": [
    "key_list"
   ]
  },
  {
   "cell_type": "code",
   "execution_count": 10,
   "metadata": {
    "collapsed": false
   },
   "outputs": [],
   "source": [
    "df = json_normalize(r.json()['stationBeanList'])"
   ]
  },
  {
   "cell_type": "markdown",
   "metadata": {},
   "source": [
    "### Can see the difference between number of available bikes per station and total docks per station"
   ]
  },
  {
   "cell_type": "code",
   "execution_count": 15,
   "metadata": {
    "collapsed": false
   },
   "outputs": [
    {
     "data": {
      "image/png": "[encoded data removed]",
      "text/plain": [
       "<matplotlib.figure.Figure at 0x11472a490>"
      ]
     },
     "metadata": {},
     "output_type": "display_data"
    }
   ],
   "source": [
    "df['availableBikes'].hist()\n",
    "plt.show()"
   ]
  },
  {
   "cell_type": "code",
   "execution_count": 27,
   "metadata": {
    "collapsed": false
   },
   "outputs": [
    {
     "data": {
      "image/png": "[encoded data removed]",
      "text/plain": [
       "<matplotlib.figure.Figure at 0x119de83d0>"
      ]
     },
     "metadata": {},
     "output_type": "display_data"
    }
   ],
   "source": [
    "df['totalDocks'].hist()\n",
    "plt.show()"
   ]
  },
  {
   "cell_type": "code",
   "execution_count": 17,
   "metadata": {
    "collapsed": false
   },
   "outputs": [
    {
     "data": {
      "text/plain": [
       "12.338582677165354"
      ]
     },
     "execution_count": 17,
     "metadata": {},
     "output_type": "execute_result"
    }
   ],
   "source": [
    "df['availableBikes'].mean()"
   ]
  },
  {
   "cell_type": "code",
   "execution_count": 18,
   "metadata": {
    "collapsed": false
   },
   "outputs": [
    {
     "data": {
      "text/plain": [
       "9.0"
      ]
     },
     "execution_count": 18,
     "metadata": {},
     "output_type": "execute_result"
    }
   ],
   "source": [
    "df['availableBikes'].median()"
   ]
  },
  {
   "cell_type": "markdown",
   "metadata": {},
   "source": [
    "### No test stations, but 8 are currently not in service"
   ]
  },
  {
   "cell_type": "code",
   "execution_count": 19,
   "metadata": {
    "collapsed": false
   },
   "outputs": [
    {
     "data": {
      "text/plain": [
       "statusKey\n",
       "1    12.536\n",
       "3     0.000\n",
       "Name: availableBikes, dtype: float64"
      ]
     },
     "execution_count": 19,
     "metadata": {},
     "output_type": "execute_result"
    }
   ],
   "source": [
    "df.groupby('statusKey')['availableBikes'].mean()"
   ]
  },
  {
   "cell_type": "code",
   "execution_count": 21,
   "metadata": {
    "collapsed": false
   },
   "outputs": [
    {
     "data": {
      "text/plain": [
       "testStation\n",
       "False    508\n",
       "Name: availableBikes, dtype: int64"
      ]
     },
     "execution_count": 21,
     "metadata": {},
     "output_type": "execute_result"
    }
   ],
   "source": [
    "df.groupby('testStation')['availableBikes'].count()"
   ]
  },
  {
   "cell_type": "code",
   "execution_count": 23,
   "metadata": {
    "collapsed": false
   },
   "outputs": [
    {
     "data": {
      "text/plain": [
       "statusValue\n",
       "In Service        500\n",
       "Not In Service      8\n",
       "Name: availableBikes, dtype: int64"
      ]
     },
     "execution_count": 23,
     "metadata": {},
     "output_type": "execute_result"
    }
   ],
   "source": [
    "df.groupby('statusValue')['availableBikes'].count()"
   ]
  },
  {
   "cell_type": "markdown",
   "metadata": {},
   "source": [
    "### Putting the data in a sqlite db"
   ]
  },
  {
   "cell_type": "code",
   "execution_count": 28,
   "metadata": {
    "collapsed": true
   },
   "outputs": [],
   "source": [
    "import sqlite3 as lite"
   ]
  },
  {
   "cell_type": "code",
   "execution_count": 71,
   "metadata": {
    "collapsed": true
   },
   "outputs": [],
   "source": [
    "con = lite.connect('citi_bike.db')\n",
    "cur = con.cursor()"
   ]
  },
  {
   "cell_type": "code",
   "execution_count": 32,
   "metadata": {
    "collapsed": false
   },
   "outputs": [
    {
     "data": {
      "text/plain": [
       "<sqlite3.Cursor at 0x11a15d340>"
      ]
     },
     "execution_count": 32,
     "metadata": {},
     "output_type": "execute_result"
    }
   ],
   "source": [
    "cur.execute('DROP TABLE citibike_reference')"
   ]
  },
  {
   "cell_type": "code",
   "execution_count": 33,
   "metadata": {
    "collapsed": false
   },
   "outputs": [],
   "source": [
    "with con:\n",
    "    cur.execute('''CREATE TABLE citibike_reference (\n",
    "                id INT PRIMARY KEY, \n",
    "                totalDocks INT,\n",
    "                city TEXT,\n",
    "                altitude INT, \n",
    "                stAddress2 TEXT, \n",
    "                longitude NUMERIC, \n",
    "                postalCode TEXT,\n",
    "                testStation TEXT,\n",
    "                stAddress1 TEXT,\n",
    "                stationName TEXT, \n",
    "                landMark TEXT,\n",
    "                latitude NUMERIC,\n",
    "                location TEXT)''')"
   ]
  },
  {
   "cell_type": "code",
   "execution_count": 34,
   "metadata": {
    "collapsed": true
   },
   "outputs": [],
   "source": [
    "sql = '''INSERT INTO citibike_reference (id, totalDocks, city, altitude, stAddress2, longitude, postalCode,\n",
    "                                        testStation, stAddress1, stationName, landMark, latitude, location)\n",
    "                                        VALUES (?,?,?,?,?,?,?,?,?,?,?,?,?)'''"
   ]
  },
  {
   "cell_type": "code",
   "execution_count": 35,
   "metadata": {
    "collapsed": true
   },
   "outputs": [],
   "source": [
    "with con:\n",
    "    for s in r.json()['stationBeanList']:\n",
    "        cur.execute(sql, (s['id'], s['totalDocks'], s['city'], s['altitude'], s['stAddress2'], s['longitude'], s['postalCode'],\n",
    "                    s['testStation'], s['stAddress1'], s['stationName'], s['landMark'], s['latitude'], s['location']))"
   ]
  },
  {
   "cell_type": "code",
   "execution_count": 55,
   "metadata": {
    "collapsed": false
   },
   "outputs": [
    {
     "data": {
      "text/plain": [
       "<sqlite3.Cursor at 0x11a15d340>"
      ]
     },
     "execution_count": 55,
     "metadata": {},
     "output_type": "execute_result"
    }
   ],
   "source": [
    "cur.execute('DROP TABLE available_bikes')"
   ]
  },
  {
   "cell_type": "markdown",
   "metadata": {},
   "source": [
    "### Get the number of available bikes at various times over an hour and put then in the db"
   ]
  },
  {
   "cell_type": "code",
   "execution_count": 48,
   "metadata": {
    "collapsed": false
   },
   "outputs": [],
   "source": [
    "station_ids = ['_' + str(x) + ' INT' for x in df['id'].tolist()]"
   ]
  },
  {
   "cell_type": "code",
   "execution_count": 57,
   "metadata": {
    "collapsed": true
   },
   "outputs": [],
   "source": [
    "with con:\n",
    "    cur.execute('CREATE TABLE available_bikes (execution_time INT, ' + ','.join(station_ids) + ');')"
   ]
  },
  {
   "cell_type": "code",
   "execution_count": 59,
   "metadata": {
    "collapsed": false
   },
   "outputs": [
    {
     "name": "stdout",
     "output_type": "stream",
     "text": [
      "CREATE TABLE available_bikes (execution_time INT, _72 INT,_79 INT,_82 INT,_83 INT,_116 INT,_119 INT,_120 INT,_127 INT,_128 INT,_137 INT,_143 INT,_144 INT,_146 INT,_147 INT,_150 INT,_151 INT,_152 INT,_153 INT,_157 INT,_161 INT,_164 INT,_167 INT,_168 INT,_173 INT,_174 INT,_195 INT,_212 INT,_216 INT,_217 INT,_223 INT,_224 INT,_225 INT,_228 INT,_229 INT,_232 INT,_236 INT,_237 INT,_238 INT,_239 INT,_241 INT,_242 INT,_243 INT,_244 INT,_245 INT,_247 INT,_248 INT,_249 INT,_250 INT,_251 INT,_252 INT,_253 INT,_254 INT,_257 INT,_258 INT,_259 INT,_260 INT,_261 INT,_262 INT,_263 INT,_264 INT,_265 INT,_266 INT,_267 INT,_268 INT,_270 INT,_274 INT,_275 INT,_276 INT,_278 INT,_279 INT,_280 INT,_281 INT,_282 INT,_284 INT,_285 INT,_289 INT,_291 INT,_293 INT,_295 INT,_296 INT,_297 INT,_298 INT,_300 INT,_301 INT,_302 INT,_303 INT,_304 INT,_305 INT,_306 INT,_307 INT,_308 INT,_309 INT,_310 INT,_311 INT,_312 INT,_313 INT,_315 INT,_316 INT,_317 INT,_319 INT,_320 INT,_321 INT,_322 INT,_323 INT,_324 INT,_325 INT,_326 INT,_327 INT,_328 INT,_329 INT,_330 INT,_331 INT,_332 INT,_334 INT,_335 INT,_336 INT,_337 INT,_339 INT,_340 INT,_341 INT,_342 INT,_343 INT,_344 INT,_345 INT,_346 INT,_347 INT,_348 INT,_349 INT,_350 INT,_351 INT,_352 INT,_353 INT,_354 INT,_355 INT,_356 INT,_357 INT,_358 INT,_359 INT,_360 INT,_361 INT,_362 INT,_363 INT,_364 INT,_365 INT,_366 INT,_367 INT,_368 INT,_369 INT,_372 INT,_373 INT,_376 INT,_377 INT,_379 INT,_380 INT,_382 INT,_383 INT,_384 INT,_385 INT,_386 INT,_387 INT,_388 INT,_389 INT,_390 INT,_391 INT,_392 INT,_393 INT,_394 INT,_395 INT,_396 INT,_397 INT,_398 INT,_399 INT,_400 INT,_401 INT,_402 INT,_403 INT,_405 INT,_406 INT,_407 INT,_408 INT,_409 INT,_410 INT,_411 INT,_412 INT,_414 INT,_415 INT,_416 INT,_417 INT,_418 INT,_419 INT,_420 INT,_421 INT,_422 INT,_423 INT,_426 INT,_427 INT,_428 INT,_430 INT,_432 INT,_433 INT,_434 INT,_435 INT,_436 INT,_437 INT,_438 INT,_439 INT,_440 INT,_441 INT,_442 INT,_443 INT,_444 INT,_445 INT,_446 INT,_447 INT,_448 INT,_449 INT,_450 INT,_453 INT,_454 INT,_455 INT,_456 INT,_457 INT,_458 INT,_459 INT,_460 INT,_461 INT,_462 INT,_463 INT,_465 INT,_466 INT,_467 INT,_468 INT,_469 INT,_470 INT,_471 INT,_472 INT,_473 INT,_474 INT,_475 INT,_476 INT,_477 INT,_478 INT,_479 INT,_480 INT,_481 INT,_482 INT,_483 INT,_484 INT,_485 INT,_486 INT,_487 INT,_488 INT,_490 INT,_491 INT,_492 INT,_493 INT,_494 INT,_495 INT,_496 INT,_497 INT,_498 INT,_499 INT,_500 INT,_501 INT,_502 INT,_503 INT,_504 INT,_505 INT,_507 INT,_508 INT,_509 INT,_510 INT,_511 INT,_513 INT,_514 INT,_515 INT,_516 INT,_517 INT,_518 INT,_519 INT,_520 INT,_522 INT,_523 INT,_524 INT,_525 INT,_526 INT,_527 INT,_528 INT,_529 INT,_530 INT,_531 INT,_532 INT,_533 INT,_534 INT,_536 INT,_537 INT,_539 INT,_540 INT,_545 INT,_546 INT,_2000 INT,_2001 INT,_2002 INT,_2003 INT,_2004 INT,_2005 INT,_2006 INT,_2008 INT,_2009 INT,_2010 INT,_2012 INT,_2017 INT,_2021 INT,_2022 INT,_2023 INT,_3002 INT,_3016 INT,_3041 INT,_3042 INT,_3043 INT,_3044 INT,_3046 INT,_3047 INT,_3048 INT,_3049 INT,_3050 INT,_3052 INT,_3053 INT,_3054 INT,_3055 INT,_3056 INT,_3057 INT,_3058 INT,_3059 INT,_3060 INT,_3061 INT,_3062 INT,_3063 INT,_3064 INT,_3065 INT,_3066 INT,_3067 INT,_3068 INT,_3069 INT,_3070 INT,_3071 INT,_3072 INT,_3073 INT,_3074 INT,_3075 INT,_3076 INT,_3077 INT,_3078 INT,_3079 INT,_3080 INT,_3081 INT,_3082 INT,_3083 INT,_3084 INT,_3085 INT,_3086 INT,_3087 INT,_3088 INT,_3089 INT,_3090 INT,_3091 INT,_3092 INT,_3093 INT,_3094 INT,_3095 INT,_3096 INT,_3098 INT,_3099 INT,_3100 INT,_3101 INT,_3102 INT,_3103 INT,_3105 INT,_3106 INT,_3107 INT,_3108 INT,_3109 INT,_3110 INT,_3111 INT,_3112 INT,_3113 INT,_3114 INT,_3115 INT,_3116 INT,_3117 INT,_3118 INT,_3119 INT,_3120 INT,_3121 INT,_3122 INT,_3123 INT,_3124 INT,_3125 INT,_3126 INT,_3127 INT,_3128 INT,_3129 INT,_3131 INT,_3132 INT,_3134 INT,_3135 INT,_3137 INT,_3138 INT,_3139 INT,_3140 INT,_3141 INT,_3142 INT,_3143 INT,_3144 INT,_3145 INT,_3146 INT,_3147 INT,_3148 INT,_3150 INT,_3151 INT,_3152 INT,_3153 INT,_3154 INT,_3155 INT,_3156 INT,_3157 INT,_3158 INT,_3159 INT,_3160 INT,_3161 INT,_3162 INT,_3163 INT,_3164 INT,_3165 INT,_3166 INT,_3167 INT,_3168 INT,_3169 INT,_3170 INT,_3171 INT,_3172 INT,_3173 INT,_3175 INT,_3176 INT,_3177 INT,_3178 INT,_3179 INT,_3180 INT,_3182 INT,_3183 INT,_3184 INT,_3185 INT,_3186 INT,_3187 INT,_3188 INT,_3189 INT,_3190 INT,_3191 INT,_3192 INT,_3193 INT,_3194 INT,_3195 INT,_3196 INT,_3197 INT,_3198 INT,_3199 INT,_3200 INT,_3201 INT,_3202 INT,_3203 INT,_3205 INT,_3206 INT,_3207 INT,_3209 INT,_3210 INT,_3211 INT,_3212 INT,_3213 INT,_3214 INT,_3215 INT,_3216 INT,_3217 INT,_3220 INT,_3221 INT,_3222 INT,_3223 INT,_3224 INT,_3225 INT,_3226 INT,_3230 INT,_3231 INT,_3232 INT,_3233 INT,_3235 INT,_3236 INT,_3237 INT,_3238 INT,_3241 INT,_3242 INT,_3243 INT,_3244 INT,_3246 INT,_3249 INT,_3254 INT,_3255 INT,_3256 INT,_3259 INT,_3260 INT);\n"
     ]
    }
   ],
   "source": [
    "print('CREATE TABLE available_bikes (execution_time INT, ' + ','.join(station_ids) + ');')"
   ]
  },
  {
   "cell_type": "code",
   "execution_count": 77,
   "metadata": {
    "collapsed": true
   },
   "outputs": [],
   "source": [
    "import time\n",
    "from datetime import datetime"
   ]
  },
  {
   "cell_type": "code",
   "execution_count": 40,
   "metadata": {
    "collapsed": true
   },
   "outputs": [],
   "source": [
    "from dateutil.parser import parse\n",
    "import collections"
   ]
  },
  {
   "cell_type": "code",
   "execution_count": 50,
   "metadata": {
    "collapsed": true
   },
   "outputs": [],
   "source": [
    "exec_time = parse(r.json()['executionTime'])"
   ]
  },
  {
   "cell_type": "code",
   "execution_count": 63,
   "metadata": {
    "collapsed": false
   },
   "outputs": [
    {
     "data": {
      "text/plain": [
       "u'2016-06-25 04:41:11 AM'"
      ]
     },
     "execution_count": 63,
     "metadata": {},
     "output_type": "execute_result"
    }
   ],
   "source": [
    "r.json()['executionTime']"
   ]
  },
  {
   "cell_type": "code",
   "execution_count": 51,
   "metadata": {
    "collapsed": true
   },
   "outputs": [],
   "source": [
    "with con:\n",
    "    cur.execute('INSERT INTO available_bikes (execution_time) VALUES (?)',(exec_time.strftime('%s'),))"
   ]
  },
  {
   "cell_type": "code",
   "execution_count": 62,
   "metadata": {
    "collapsed": false
   },
   "outputs": [
    {
     "data": {
      "text/plain": [
       "'1466847671'"
      ]
     },
     "execution_count": 62,
     "metadata": {},
     "output_type": "execute_result"
    }
   ],
   "source": [
    "exec_time"
   ]
  },
  {
   "cell_type": "code",
   "execution_count": 52,
   "metadata": {
    "collapsed": true
   },
   "outputs": [],
   "source": [
    "id_bikes = collections.defaultdict(int)"
   ]
  },
  {
   "cell_type": "code",
   "execution_count": 53,
   "metadata": {
    "collapsed": true
   },
   "outputs": [],
   "source": [
    "for station in r.json()['stationBeanList']:\n",
    "    id_bikes[station['id']] = station['availableBikes']"
   ]
  },
  {
   "cell_type": "code",
   "execution_count": 54,
   "metadata": {
    "collapsed": false
   },
   "outputs": [],
   "source": [
    "with con:\n",
    "    for k,v in id_bikes.iteritems():\n",
    "        cur.execute('UPDATE available_bikes SET _' + str(k) + ' = ' + str(v) + ' WHERE execution_time = ' + \n",
    "                    exec_time.strftime('%s') + ';')"
   ]
  },
  {
   "cell_type": "code",
   "execution_count": 58,
   "metadata": {
    "collapsed": false
   },
   "outputs": [],
   "source": [
    "for i in range(60): # Inserts data into the DB every minute for an hour\n",
    "    r = requests.get('http://www.citibikenyc.com/stations/json')\n",
    "    exec_time = parse(r.json()['executionTime']).strftime(\"%s\")\n",
    "\n",
    "    cur.execute('INSERT INTO available_bikes (execution_time) VALUES (?)', (exec_time,))\n",
    "\n",
    "    for station in r.json()['stationBeanList']:\n",
    "        cur.execute(\"UPDATE available_bikes SET _%d = %d WHERE execution_time = %s\" % (station['id'], \n",
    "                                                                station['availableBikes'], exec_time))\n",
    "    con.commit()\n",
    "\n",
    "    time.sleep(60)\n",
    "\n",
    "con.close() #close the database connection when done"
   ]
  },
  {
   "cell_type": "markdown",
   "metadata": {},
   "source": [
    "### Can find the stations with the greatest activity over the hour"
   ]
  },
  {
   "cell_type": "code",
   "execution_count": 72,
   "metadata": {
    "collapsed": true
   },
   "outputs": [],
   "source": [
    "df1 = pd.read_sql_query('SELECT * FROM available_bikes ORDER BY execution_time',con,index_col = 'execution_time')"
   ]
  },
  {
   "cell_type": "code",
   "execution_count": 93,
   "metadata": {
    "collapsed": false
   },
   "outputs": [
    {
     "data": {
      "text/html": [
       "<div>\n",
       "<table border=\"1\" class=\"dataframe\">\n",
       "  <thead>\n",
       "    <tr style=\"text-align: right;\">\n",
       "      <th></th>\n",
       "      <th>_72</th>\n",
       "      <th>_79</th>\n",
       "      <th>_82</th>\n",
       "      <th>_83</th>\n",
       "      <th>_116</th>\n",
       "      <th>_119</th>\n",
       "      <th>_120</th>\n",
       "      <th>_127</th>\n",
       "      <th>_128</th>\n",
       "      <th>_137</th>\n",
       "      <th>...</th>\n",
       "      <th>_3242</th>\n",
       "      <th>_3243</th>\n",
       "      <th>_3244</th>\n",
       "      <th>_3246</th>\n",
       "      <th>_3249</th>\n",
       "      <th>_3254</th>\n",
       "      <th>_3255</th>\n",
       "      <th>_3256</th>\n",
       "      <th>_3259</th>\n",
       "      <th>_3260</th>\n",
       "    </tr>\n",
       "    <tr>\n",
       "      <th>execution_time</th>\n",
       "      <th></th>\n",
       "      <th></th>\n",
       "      <th></th>\n",
       "      <th></th>\n",
       "      <th></th>\n",
       "      <th></th>\n",
       "      <th></th>\n",
       "      <th></th>\n",
       "      <th></th>\n",
       "      <th></th>\n",
       "      <th></th>\n",
       "      <th></th>\n",
       "      <th></th>\n",
       "      <th></th>\n",
       "      <th></th>\n",
       "      <th></th>\n",
       "      <th></th>\n",
       "      <th></th>\n",
       "      <th></th>\n",
       "      <th></th>\n",
       "      <th></th>\n",
       "    </tr>\n",
       "  </thead>\n",
       "  <tbody>\n",
       "    <tr>\n",
       "      <th>1466841857</th>\n",
       "      <td>15</td>\n",
       "      <td>2</td>\n",
       "      <td>16</td>\n",
       "      <td>42</td>\n",
       "      <td>9</td>\n",
       "      <td>9</td>\n",
       "      <td>14</td>\n",
       "      <td>25</td>\n",
       "      <td>20</td>\n",
       "      <td>16</td>\n",
       "      <td>...</td>\n",
       "      <td>38</td>\n",
       "      <td>4</td>\n",
       "      <td>6</td>\n",
       "      <td>33</td>\n",
       "      <td>4</td>\n",
       "      <td>28</td>\n",
       "      <td>24</td>\n",
       "      <td>0</td>\n",
       "      <td>7</td>\n",
       "      <td>4</td>\n",
       "    </tr>\n",
       "    <tr>\n",
       "      <th>1466841920</th>\n",
       "      <td>15</td>\n",
       "      <td>2</td>\n",
       "      <td>16</td>\n",
       "      <td>42</td>\n",
       "      <td>9</td>\n",
       "      <td>9</td>\n",
       "      <td>14</td>\n",
       "      <td>25</td>\n",
       "      <td>20</td>\n",
       "      <td>16</td>\n",
       "      <td>...</td>\n",
       "      <td>38</td>\n",
       "      <td>4</td>\n",
       "      <td>6</td>\n",
       "      <td>33</td>\n",
       "      <td>4</td>\n",
       "      <td>28</td>\n",
       "      <td>24</td>\n",
       "      <td>0</td>\n",
       "      <td>7</td>\n",
       "      <td>3</td>\n",
       "    </tr>\n",
       "    <tr>\n",
       "      <th>1466841972</th>\n",
       "      <td>15</td>\n",
       "      <td>2</td>\n",
       "      <td>16</td>\n",
       "      <td>42</td>\n",
       "      <td>9</td>\n",
       "      <td>9</td>\n",
       "      <td>14</td>\n",
       "      <td>25</td>\n",
       "      <td>20</td>\n",
       "      <td>16</td>\n",
       "      <td>...</td>\n",
       "      <td>38</td>\n",
       "      <td>4</td>\n",
       "      <td>6</td>\n",
       "      <td>33</td>\n",
       "      <td>4</td>\n",
       "      <td>28</td>\n",
       "      <td>24</td>\n",
       "      <td>0</td>\n",
       "      <td>7</td>\n",
       "      <td>3</td>\n",
       "    </tr>\n",
       "    <tr>\n",
       "      <th>1466842046</th>\n",
       "      <td>15</td>\n",
       "      <td>2</td>\n",
       "      <td>16</td>\n",
       "      <td>42</td>\n",
       "      <td>9</td>\n",
       "      <td>9</td>\n",
       "      <td>14</td>\n",
       "      <td>26</td>\n",
       "      <td>19</td>\n",
       "      <td>15</td>\n",
       "      <td>...</td>\n",
       "      <td>38</td>\n",
       "      <td>4</td>\n",
       "      <td>6</td>\n",
       "      <td>33</td>\n",
       "      <td>4</td>\n",
       "      <td>28</td>\n",
       "      <td>24</td>\n",
       "      <td>0</td>\n",
       "      <td>7</td>\n",
       "      <td>3</td>\n",
       "    </tr>\n",
       "    <tr>\n",
       "      <th>1466842088</th>\n",
       "      <td>15</td>\n",
       "      <td>2</td>\n",
       "      <td>16</td>\n",
       "      <td>42</td>\n",
       "      <td>9</td>\n",
       "      <td>9</td>\n",
       "      <td>14</td>\n",
       "      <td>26</td>\n",
       "      <td>19</td>\n",
       "      <td>15</td>\n",
       "      <td>...</td>\n",
       "      <td>38</td>\n",
       "      <td>4</td>\n",
       "      <td>6</td>\n",
       "      <td>33</td>\n",
       "      <td>4</td>\n",
       "      <td>28</td>\n",
       "      <td>24</td>\n",
       "      <td>0</td>\n",
       "      <td>7</td>\n",
       "      <td>3</td>\n",
       "    </tr>\n",
       "  </tbody>\n",
       "</table>\n",
       "<p>5 rows × 508 columns</p>\n",
       "</div>"
      ],
      "text/plain": [
       "                _72  _79  _82  _83  _116  _119  _120  _127  _128  _137  ...    \\\n",
       "execution_time                                                          ...     \n",
       "1466841857       15    2   16   42     9     9    14    25    20    16  ...     \n",
       "1466841920       15    2   16   42     9     9    14    25    20    16  ...     \n",
       "1466841972       15    2   16   42     9     9    14    25    20    16  ...     \n",
       "1466842046       15    2   16   42     9     9    14    26    19    15  ...     \n",
       "1466842088       15    2   16   42     9     9    14    26    19    15  ...     \n",
       "\n",
       "                _3242  _3243  _3244  _3246  _3249  _3254  _3255  _3256  _3259  \\\n",
       "execution_time                                                                  \n",
       "1466841857         38      4      6     33      4     28     24      0      7   \n",
       "1466841920         38      4      6     33      4     28     24      0      7   \n",
       "1466841972         38      4      6     33      4     28     24      0      7   \n",
       "1466842046         38      4      6     33      4     28     24      0      7   \n",
       "1466842088         38      4      6     33      4     28     24      0      7   \n",
       "\n",
       "                _3260  \n",
       "execution_time         \n",
       "1466841857          4  \n",
       "1466841920          3  \n",
       "1466841972          3  \n",
       "1466842046          3  \n",
       "1466842088          3  \n",
       "\n",
       "[5 rows x 508 columns]"
      ]
     },
     "execution_count": 93,
     "metadata": {},
     "output_type": "execute_result"
    }
   ],
   "source": [
    "df1.head()"
   ]
  },
  {
   "cell_type": "code",
   "execution_count": 74,
   "metadata": {
    "collapsed": false
   },
   "outputs": [],
   "source": [
    "hour_change = collections.defaultdict(int)\n",
    "for col in df1.columns: # for each station\n",
    "    station_vals = df1[col].tolist()\n",
    "    station_id = col[1:] # trimming _\n",
    "    station_change = 0\n",
    "    for k,v in enumerate(station_vals):\n",
    "        if k < len(station_vals) - 1: # Up to the 2nd to last row in each column\n",
    "            station_change += abs(station_vals[k] - station_vals[k+1]) # abs value of the change every minute\n",
    "    hour_change[int(station_id)] = station_change"
   ]
  },
  {
   "cell_type": "code",
   "execution_count": 75,
   "metadata": {
    "collapsed": true
   },
   "outputs": [],
   "source": [
    "def keyWithMaxVal(d):\n",
    "    '''Find key with greatest value change'''\n",
    "    return max(d, key = lambda k: d[k])"
   ]
  },
  {
   "cell_type": "code",
   "execution_count": 106,
   "metadata": {
    "collapsed": true
   },
   "outputs": [],
   "source": [
    "def top10MaxVals(d):\n",
    "    '''Find key with greatest value change'''\n",
    "    return sorted(d, key = d.get, reverse = True)[:10]"
   ]
  },
  {
   "cell_type": "code",
   "execution_count": 107,
   "metadata": {
    "collapsed": false
   },
   "outputs": [],
   "source": [
    "top_ten = top10MaxVals(hour_change)"
   ]
  },
  {
   "cell_type": "code",
   "execution_count": 149,
   "metadata": {
    "collapsed": false
   },
   "outputs": [
    {
     "data": {
      "text/plain": [
       "[281, 284, 351, 368, 385, 433, 445, 499, 2003, 3190]"
      ]
     },
     "execution_count": 149,
     "metadata": {},
     "output_type": "execute_result"
    }
   ],
   "source": [
    "top_ten"
   ]
  },
  {
   "cell_type": "code",
   "execution_count": 76,
   "metadata": {
    "collapsed": true
   },
   "outputs": [],
   "source": [
    "max_station = keyWithMaxVal(hour_change)"
   ]
  },
  {
   "cell_type": "markdown",
   "metadata": {},
   "source": [
    "### Station with the most activity has one of the highest station numbers with 27 bike exchanges even at 3am"
   ]
  },
  {
   "cell_type": "code",
   "execution_count": 78,
   "metadata": {
    "collapsed": false
   },
   "outputs": [
    {
     "name": "stdout",
     "output_type": "stream",
     "text": [
      "The most active station is station id 3190 at Garfield Ave Light Rail, latitude: 40.7108044, longitude: -74.0714882\n",
      "With 27 bikes coming and going in the hour between 2016-06-25T03:04:17 and 2016-06-25T04:41:11\n"
     ]
    }
   ],
   "source": [
    "cur.execute('SELECT id, stationname, latitude, longitude FROM citibike_reference WHERE id = ?', (max_station,))\n",
    "data = cur.fetchone()\n",
    "print('The most active station is station id %s at %s, latitude: %s, longitude: %s' % data)\n",
    "print('With %d bikes coming and going in the hour between %s and %s' % (hour_change[max_station], \n",
    "         datetime.fromtimestamp(int(df1.index[0])).strftime('%Y-%m-%dT%H:%M:%S'),\n",
    "         datetime.fromtimestamp(int(df1.index[-1])).strftime('%Y-%m-%dT%H:%M:%S'),))"
   ]
  },
  {
   "cell_type": "code",
   "execution_count": 79,
   "metadata": {
    "collapsed": false
   },
   "outputs": [
    {
     "data": {
      "image/png": "[encoded data removed]",
      "text/plain": [
       "<matplotlib.figure.Figure at 0x1195c5a50>"
      ]
     },
     "metadata": {},
     "output_type": "display_data"
    }
   ],
   "source": [
    "plt.bar(hour_change.keys(), hour_change.values())\n",
    "plt.show()"
   ]
  },
  {
   "cell_type": "code",
   "execution_count": 186,
   "metadata": {
    "collapsed": false
   },
   "outputs": [],
   "source": [
    "from mpl_toolkits.basemap import Basemap\n",
    "import numpy as np\n",
    "import random\n",
    "from matplotlib import cm"
   ]
  },
  {
   "cell_type": "code",
   "execution_count": 113,
   "metadata": {
    "collapsed": false
   },
   "outputs": [
    {
     "data": {
      "text/plain": [
       "'3190,281,445,499,433,2003,284,351,368,385'"
      ]
     },
     "execution_count": 113,
     "metadata": {},
     "output_type": "execute_result"
    }
   ],
   "source": [
    "','.join(str(v) for v in top_ten)"
   ]
  },
  {
   "cell_type": "code",
   "execution_count": 114,
   "metadata": {
    "collapsed": false
   },
   "outputs": [],
   "source": [
    "ref = pd.read_sql_query('SELECT id, stationname, latitude, longitude FROM citibike_reference WHERE id in (' \n",
    "                        + ','.join(str(v) for v in top_ten) + ')',\n",
    "                        con,index_col = 'id')"
   ]
  },
  {
   "cell_type": "markdown",
   "metadata": {},
   "source": [
    "### Top 10 stations with highest activity (not in order of activity)"
   ]
  },
  {
   "cell_type": "code",
   "execution_count": 117,
   "metadata": {
    "collapsed": false
   },
   "outputs": [
    {
     "data": {
      "text/html": [
       "<div>\n",
       "<table border=\"1\" class=\"dataframe\">\n",
       "  <thead>\n",
       "    <tr style=\"text-align: right;\">\n",
       "      <th></th>\n",
       "      <th>stationName</th>\n",
       "      <th>latitude</th>\n",
       "      <th>longitude</th>\n",
       "    </tr>\n",
       "    <tr>\n",
       "      <th>id</th>\n",
       "      <th></th>\n",
       "      <th></th>\n",
       "      <th></th>\n",
       "    </tr>\n",
       "  </thead>\n",
       "  <tbody>\n",
       "    <tr>\n",
       "      <th>281</th>\n",
       "      <td>Grand Army Plaza &amp; Central Park S</td>\n",
       "      <td>40.764397</td>\n",
       "      <td>-73.973715</td>\n",
       "    </tr>\n",
       "    <tr>\n",
       "      <th>284</th>\n",
       "      <td>Greenwich Ave &amp; 8 Ave</td>\n",
       "      <td>40.739017</td>\n",
       "      <td>-74.002638</td>\n",
       "    </tr>\n",
       "    <tr>\n",
       "      <th>351</th>\n",
       "      <td>Front St &amp; Maiden Ln</td>\n",
       "      <td>40.705310</td>\n",
       "      <td>-74.006126</td>\n",
       "    </tr>\n",
       "    <tr>\n",
       "      <th>368</th>\n",
       "      <td>Carmine St &amp; 6 Ave</td>\n",
       "      <td>40.730386</td>\n",
       "      <td>-74.002150</td>\n",
       "    </tr>\n",
       "    <tr>\n",
       "      <th>385</th>\n",
       "      <td>E 55 St &amp; 2 Ave</td>\n",
       "      <td>40.757973</td>\n",
       "      <td>-73.966033</td>\n",
       "    </tr>\n",
       "    <tr>\n",
       "      <th>433</th>\n",
       "      <td>E 13 St &amp; Avenue A</td>\n",
       "      <td>40.729554</td>\n",
       "      <td>-73.980572</td>\n",
       "    </tr>\n",
       "    <tr>\n",
       "      <th>445</th>\n",
       "      <td>E 10 St &amp; Avenue A</td>\n",
       "      <td>40.727408</td>\n",
       "      <td>-73.981420</td>\n",
       "    </tr>\n",
       "    <tr>\n",
       "      <th>499</th>\n",
       "      <td>Broadway &amp; W 60 St</td>\n",
       "      <td>40.769155</td>\n",
       "      <td>-73.981918</td>\n",
       "    </tr>\n",
       "    <tr>\n",
       "      <th>2003</th>\n",
       "      <td>1 Ave &amp; E 18 St</td>\n",
       "      <td>40.733812</td>\n",
       "      <td>-73.980544</td>\n",
       "    </tr>\n",
       "    <tr>\n",
       "      <th>3190</th>\n",
       "      <td>Garfield Ave Light Rail</td>\n",
       "      <td>40.710804</td>\n",
       "      <td>-74.071488</td>\n",
       "    </tr>\n",
       "  </tbody>\n",
       "</table>\n",
       "</div>"
      ],
      "text/plain": [
       "                            stationName   latitude  longitude\n",
       "id                                                           \n",
       "281   Grand Army Plaza & Central Park S  40.764397 -73.973715\n",
       "284               Greenwich Ave & 8 Ave  40.739017 -74.002638\n",
       "351                Front St & Maiden Ln  40.705310 -74.006126\n",
       "368                  Carmine St & 6 Ave  40.730386 -74.002150\n",
       "385                     E 55 St & 2 Ave  40.757973 -73.966033\n",
       "433                  E 13 St & Avenue A  40.729554 -73.980572\n",
       "445                  E 10 St & Avenue A  40.727408 -73.981420\n",
       "499                  Broadway & W 60 St  40.769155 -73.981918\n",
       "2003                    1 Ave & E 18 St  40.733812 -73.980544\n",
       "3190            Garfield Ave Light Rail  40.710804 -74.071488"
      ]
     },
     "execution_count": 117,
     "metadata": {},
     "output_type": "execute_result"
    }
   ],
   "source": [
    "ref"
   ]
  },
  {
   "cell_type": "markdown",
   "metadata": {},
   "source": [
    "### Can then plot the top 10 stations. Probably should look at more stations to see if anything stands out."
   ]
  },
  {
   "cell_type": "code",
   "execution_count": 212,
   "metadata": {
    "collapsed": false,
    "scrolled": true
   },
   "outputs": [
    {
     "data": {
      "image/png": "[encoded data removed]",
      "text/plain": [
       "<matplotlib.figure.Figure at 0x11c31fbd0>"
      ]
     },
     "metadata": {},
     "output_type": "display_data"
    }
   ],
   "source": [
    "fig = plt.figure()\n",
    "m = Basemap(projection = 'merc',llcrnrlat = 40.7, urcrnrlat = 40.79,\n",
    "            llcrnrlon = -74.1, urcrnrlon = -73.95, lat_ts = 40.5, area_thresh = 0.1, resolution='f')\n",
    "m.drawcoastlines()\n",
    "m.drawrivers()\n",
    "m.fillcontinents(color = 'white',lake_color = 'aqua', zorder = 0)\n",
    "m.drawmapboundary(fill_color = 'aqua') \n",
    "\n",
    "labels = ref['stationName']\n",
    "x_offsets = [130,-5500,130,-4800,130,130,130,130,130,130]\n",
    "y_offsets = [0,100,0,0,0,0,-500,0,300,0]\n",
    "\n",
    "x,y = m([float(x) for x in ref['longitude']], [float(x) for x in ref['latitude']])\n",
    "\n",
    "for label, xpt, ypt, x_offset, y_offset in zip(labels, x, y, x_offsets, y_offsets):\n",
    "    plt.text(xpt+x_offset, ypt+y_offset, label)\n",
    "\n",
    "cor = [hour_change[v] for v in sorted(top_ten)]\n",
    "cmap = plt.get_cmap('YlOrRd')\n",
    "cax = cm.ScalarMappable(cmap=cmap)\n",
    "cax.set_array(cor)\n",
    "#cax.make_axes(orientation = 'horizontal')\n",
    "ax = plt.gca()\n",
    "\n",
    "m.scatter(x=x, y=y, s = 80, c = cor, marker = 'o', cmap = cmap, ax = ax)\n",
    "#m.colorbar(cax)\n",
    "plt.show()"
   ]
  }
 ],
 "metadata": {
  "kernelspec": {
   "display_name": "Python 2",
   "language": "python",
   "name": "python2"
  },
  "language_info": {
   "codemirror_mode": {
    "name": "ipython",
    "version": 2
   },
   "file_extension": ".py",
   "mimetype": "text/x-python",
   "name": "python",
   "nbconvert_exporter": "python",
   "pygments_lexer": "ipython2",
   "version": "2.7.11"
  }
 },
 "nbformat": 4,
 "nbformat_minor": 0
}
